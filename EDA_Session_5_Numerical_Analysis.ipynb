{
 "cells": [
  {
   "cell_type": "markdown",
   "id": "b8dc4bc8-131e-49f9-bc4a-2b2dcf147fd0",
   "metadata": {},
   "source": [
    "**Import Packages**"
   ]
  },
  {
   "cell_type": "code",
   "execution_count": 10,
   "id": "7286c502-0fb5-460e-adbf-e3491c9fd913",
   "metadata": {},
   "outputs": [],
   "source": [
    "import pandas as pd\n",
    "import numpy as np\n",
    "import matplotlib.pyplot as plt\n",
    "import seaborn as sns"
   ]
  },
  {
   "cell_type": "markdown",
   "id": "f86e444e-7ee1-4331-8ea6-71e091216295",
   "metadata": {},
   "source": [
    "**Read the data**"
   ]
  },
  {
   "cell_type": "code",
   "execution_count": 6,
   "id": "7cc68db4-3861-42ae-974a-ae67a84dd43d",
   "metadata": {},
   "outputs": [],
   "source": [
    "visa_df=pd.read_csv(r\"C:\\Users\\gunda\\Documents\\Documents\\Naresh IT\\Data Science\\Data files\\visadataset.csv\")"
   ]
  },
  {
   "cell_type": "code",
   "execution_count": 9,
   "id": "2357026d-3920-49d8-9102-83a9eea56c40",
   "metadata": {},
   "outputs": [
    {
     "data": {
      "text/html": [
       "<div>\n",
       "<style scoped>\n",
       "    .dataframe tbody tr th:only-of-type {\n",
       "        vertical-align: middle;\n",
       "    }\n",
       "\n",
       "    .dataframe tbody tr th {\n",
       "        vertical-align: top;\n",
       "    }\n",
       "\n",
       "    .dataframe thead th {\n",
       "        text-align: right;\n",
       "    }\n",
       "</style>\n",
       "<table border=\"1\" class=\"dataframe\">\n",
       "  <thead>\n",
       "    <tr style=\"text-align: right;\">\n",
       "      <th></th>\n",
       "      <th>case_id</th>\n",
       "      <th>continent</th>\n",
       "      <th>education_of_employee</th>\n",
       "      <th>has_job_experience</th>\n",
       "      <th>requires_job_training</th>\n",
       "      <th>no_of_employees</th>\n",
       "      <th>yr_of_estab</th>\n",
       "      <th>region_of_employment</th>\n",
       "      <th>prevailing_wage</th>\n",
       "      <th>unit_of_wage</th>\n",
       "      <th>full_time_position</th>\n",
       "      <th>case_status</th>\n",
       "    </tr>\n",
       "  </thead>\n",
       "  <tbody>\n",
       "    <tr>\n",
       "      <th>0</th>\n",
       "      <td>EZYV01</td>\n",
       "      <td>Asia</td>\n",
       "      <td>High School</td>\n",
       "      <td>N</td>\n",
       "      <td>N</td>\n",
       "      <td>14513</td>\n",
       "      <td>2007</td>\n",
       "      <td>West</td>\n",
       "      <td>592.2029</td>\n",
       "      <td>Hour</td>\n",
       "      <td>Y</td>\n",
       "      <td>Denied</td>\n",
       "    </tr>\n",
       "    <tr>\n",
       "      <th>1</th>\n",
       "      <td>EZYV02</td>\n",
       "      <td>Asia</td>\n",
       "      <td>Master's</td>\n",
       "      <td>Y</td>\n",
       "      <td>N</td>\n",
       "      <td>2412</td>\n",
       "      <td>2002</td>\n",
       "      <td>Northeast</td>\n",
       "      <td>83425.6500</td>\n",
       "      <td>Year</td>\n",
       "      <td>Y</td>\n",
       "      <td>Certified</td>\n",
       "    </tr>\n",
       "  </tbody>\n",
       "</table>\n",
       "</div>"
      ],
      "text/plain": [
       "  case_id continent education_of_employee has_job_experience  \\\n",
       "0  EZYV01      Asia           High School                  N   \n",
       "1  EZYV02      Asia              Master's                  Y   \n",
       "\n",
       "  requires_job_training  no_of_employees  yr_of_estab region_of_employment  \\\n",
       "0                     N            14513         2007                 West   \n",
       "1                     N             2412         2002            Northeast   \n",
       "\n",
       "   prevailing_wage unit_of_wage full_time_position case_status  \n",
       "0         592.2029         Hour                  Y      Denied  \n",
       "1       83425.6500         Year                  Y   Certified  "
      ]
     },
     "execution_count": 9,
     "metadata": {},
     "output_type": "execute_result"
    }
   ],
   "source": [
    "visa_df.head(2)"
   ]
  },
  {
   "cell_type": "markdown",
   "id": "1b625960-12fb-4198-8dda-555ef626121b",
   "metadata": {},
   "source": [
    "**Select the Numerical data**"
   ]
  },
  {
   "cell_type": "code",
   "execution_count": 11,
   "id": "64142ebd-325c-4a9d-820d-44d93d3335a6",
   "metadata": {},
   "outputs": [
    {
     "data": {
      "text/plain": [
       "Index(['no_of_employees', 'yr_of_estab', 'prevailing_wage'], dtype='object')"
      ]
     },
     "execution_count": 11,
     "metadata": {},
     "output_type": "execute_result"
    }
   ],
   "source": [
    "visa_df.select_dtypes(exclude='object').columns"
   ]
  },
  {
   "cell_type": "markdown",
   "id": "cd27d594-e4d1-44b4-a4cb-6349131dc653",
   "metadata": {},
   "source": [
    "**Prevailing_wage**"
   ]
  },
  {
   "cell_type": "markdown",
   "id": "0028023d-2a57-442d-b052-4b9b2555e53c",
   "metadata": {},
   "source": [
    "- len\n",
    "\n",
    "- max\n",
    "\n",
    "- min\n",
    "\n",
    "- mean\n",
    "\n",
    "- median\n",
    "\n",
    "- std\n",
    "\n",
    "- 75%\n",
    "\n",
    "- 50%\n",
    "\n",
    "- 25%\n"
   ]
  },
  {
   "cell_type": "markdown",
   "id": "05bcb41e-8da5-4f0a-ade8-a52ea59e0256",
   "metadata": {},
   "source": [
    "**Count or len**"
   ]
  },
  {
   "cell_type": "code",
   "execution_count": 10,
   "id": "a0d8f227-99ff-4142-9211-e037827dc36d",
   "metadata": {},
   "outputs": [
    {
     "data": {
      "text/plain": [
       "25480"
      ]
     },
     "execution_count": 10,
     "metadata": {},
     "output_type": "execute_result"
    }
   ],
   "source": [
    "len(visa_df['prevailing_wage'])"
   ]
  },
  {
   "cell_type": "markdown",
   "id": "34849d5a-fb04-4c76-8263-b41c1d3d397d",
   "metadata": {},
   "source": [
    "**max**"
   ]
  },
  {
   "cell_type": "code",
   "execution_count": 11,
   "id": "062804d8-4fb6-489a-81f2-9d9b60c150d7",
   "metadata": {},
   "outputs": [
    {
     "data": {
      "text/plain": [
       "319210.27"
      ]
     },
     "execution_count": 11,
     "metadata": {},
     "output_type": "execute_result"
    }
   ],
   "source": [
    "max(visa_df['prevailing_wage']) # keyword"
   ]
  },
  {
   "cell_type": "code",
   "execution_count": 12,
   "id": "ca1a7734-97e4-4550-ac56-898b2eeeec84",
   "metadata": {},
   "outputs": [
    {
     "data": {
      "text/plain": [
       "319210.27"
      ]
     },
     "execution_count": 12,
     "metadata": {},
     "output_type": "execute_result"
    }
   ],
   "source": [
    "visa_df['prevailing_wage'].max()  # pandas"
   ]
  },
  {
   "cell_type": "code",
   "execution_count": 15,
   "id": "55c9e337-2b6a-4f4b-83f2-e2f5348859ae",
   "metadata": {},
   "outputs": [
    {
     "data": {
      "text/plain": [
       "319210.27"
      ]
     },
     "execution_count": 15,
     "metadata": {},
     "output_type": "execute_result"
    }
   ],
   "source": [
    "np.max(visa_df['prevailing_wage']) # numpy"
   ]
  },
  {
   "cell_type": "markdown",
   "id": "7da5e002-c044-49f4-b6db-e02cb564f713",
   "metadata": {},
   "source": [
    "**Min**"
   ]
  },
  {
   "cell_type": "code",
   "execution_count": 16,
   "id": "325f1627-dd3f-48f1-9da9-daeb73e21e47",
   "metadata": {},
   "outputs": [
    {
     "data": {
      "text/plain": [
       "2.1367"
      ]
     },
     "execution_count": 16,
     "metadata": {},
     "output_type": "execute_result"
    }
   ],
   "source": [
    "min(visa_df['prevailing_wage']) #keyword"
   ]
  },
  {
   "cell_type": "code",
   "execution_count": 17,
   "id": "34c28ba6-c4a4-4f87-8b8a-2a8c27364568",
   "metadata": {},
   "outputs": [
    {
     "data": {
      "text/plain": [
       "2.1367"
      ]
     },
     "execution_count": 17,
     "metadata": {},
     "output_type": "execute_result"
    }
   ],
   "source": [
    "visa_df['prevailing_wage'].min()  # pandas"
   ]
  },
  {
   "cell_type": "code",
   "execution_count": 18,
   "id": "90834ff3-b6af-4049-961f-3ee5db036336",
   "metadata": {},
   "outputs": [
    {
     "data": {
      "text/plain": [
       "2.1367"
      ]
     },
     "execution_count": 18,
     "metadata": {},
     "output_type": "execute_result"
    }
   ],
   "source": [
    "np.min(visa_df['prevailing_wage']) # numpy"
   ]
  },
  {
   "cell_type": "code",
   "execution_count": 28,
   "id": "deb6e15f-aa0e-41db-85ce-6d0346dacbf8",
   "metadata": {},
   "outputs": [],
   "source": [
    "# instead of len can we use unique?\n",
    "# how many unique values are different\n",
    "# how many total values are different"
   ]
  },
  {
   "cell_type": "markdown",
   "id": "5a0cfacf-0148-4d9e-a2da-6a0e06ffcd32",
   "metadata": {},
   "source": [
    "**mean**"
   ]
  },
  {
   "cell_type": "code",
   "execution_count": 20,
   "id": "93b0b1d8-7b7b-4423-8f11-4bc7a3b34aed",
   "metadata": {},
   "outputs": [
    {
     "data": {
      "text/plain": [
       "74455.81459209183"
      ]
     },
     "execution_count": 20,
     "metadata": {},
     "output_type": "execute_result"
    }
   ],
   "source": [
    "visa_df['prevailing_wage'].mean()"
   ]
  },
  {
   "cell_type": "code",
   "execution_count": 22,
   "id": "1229425d-00b1-4df2-ac9a-d83c9784b06e",
   "metadata": {},
   "outputs": [
    {
     "data": {
      "text/plain": [
       "74455.81459209183"
      ]
     },
     "execution_count": 22,
     "metadata": {},
     "output_type": "execute_result"
    }
   ],
   "source": [
    "np.mean(visa_df['prevailing_wage'])"
   ]
  },
  {
   "cell_type": "markdown",
   "id": "9f33aed6-5980-4b06-b0b2-4f9d52a06987",
   "metadata": {},
   "source": [
    "**median**"
   ]
  },
  {
   "cell_type": "code",
   "execution_count": 23,
   "id": "09f511de-4282-48ba-895c-07eeca88d817",
   "metadata": {},
   "outputs": [
    {
     "data": {
      "text/plain": [
       "70308.20999999999"
      ]
     },
     "execution_count": 23,
     "metadata": {},
     "output_type": "execute_result"
    }
   ],
   "source": [
    "visa_df['prevailing_wage'].median()"
   ]
  },
  {
   "cell_type": "code",
   "execution_count": 24,
   "id": "9a41a41f-25f2-4810-8c26-66798cfce12f",
   "metadata": {},
   "outputs": [
    {
     "data": {
      "text/plain": [
       "70308.20999999999"
      ]
     },
     "execution_count": 24,
     "metadata": {},
     "output_type": "execute_result"
    }
   ],
   "source": [
    "np.median(visa_df['prevailing_wage'])"
   ]
  },
  {
   "cell_type": "markdown",
   "id": "cb9996cd-cd5e-4096-ac20-698f50ee361f",
   "metadata": {},
   "source": [
    "**std**"
   ]
  },
  {
   "cell_type": "code",
   "execution_count": 25,
   "id": "619468a8-4093-48ac-ba1e-2ebcb78e3bda",
   "metadata": {},
   "outputs": [
    {
     "data": {
      "text/plain": [
       "52815.94232687357"
      ]
     },
     "execution_count": 25,
     "metadata": {},
     "output_type": "execute_result"
    }
   ],
   "source": [
    "visa_df['prevailing_wage'].std()"
   ]
  },
  {
   "cell_type": "code",
   "execution_count": 26,
   "id": "35963da6-bc95-458f-bc90-3480960ea8ec",
   "metadata": {},
   "outputs": [
    {
     "data": {
      "text/plain": [
       "52814.90589711402"
      ]
     },
     "execution_count": 26,
     "metadata": {},
     "output_type": "execute_result"
    }
   ],
   "source": [
    "np.std(visa_df['prevailing_wage'])"
   ]
  },
  {
   "cell_type": "markdown",
   "id": "b26ed2de-82d1-446c-b728-abce886701e9",
   "metadata": {},
   "source": [
    "**Mode is not good option because it is a numerical variable**"
   ]
  },
  {
   "cell_type": "code",
   "execution_count": 12,
   "id": "c6fb02a1-fe23-4672-a99c-f4812809926b",
   "metadata": {},
   "outputs": [
    {
     "data": {
      "text/html": [
       "<div>\n",
       "<style scoped>\n",
       "    .dataframe tbody tr th:only-of-type {\n",
       "        vertical-align: middle;\n",
       "    }\n",
       "\n",
       "    .dataframe tbody tr th {\n",
       "        vertical-align: top;\n",
       "    }\n",
       "\n",
       "    .dataframe thead th {\n",
       "        text-align: right;\n",
       "    }\n",
       "</style>\n",
       "<table border=\"1\" class=\"dataframe\">\n",
       "  <thead>\n",
       "    <tr style=\"text-align: right;\">\n",
       "      <th></th>\n",
       "      <th>prevailing_wage</th>\n",
       "    </tr>\n",
       "  </thead>\n",
       "  <tbody>\n",
       "    <tr>\n",
       "      <th>count</th>\n",
       "      <td>25480.00</td>\n",
       "    </tr>\n",
       "    <tr>\n",
       "      <th>min</th>\n",
       "      <td>2.14</td>\n",
       "    </tr>\n",
       "    <tr>\n",
       "      <th>max</th>\n",
       "      <td>319210.27</td>\n",
       "    </tr>\n",
       "    <tr>\n",
       "      <th>mean</th>\n",
       "      <td>74455.81</td>\n",
       "    </tr>\n",
       "    <tr>\n",
       "      <th>median</th>\n",
       "      <td>70308.21</td>\n",
       "    </tr>\n",
       "    <tr>\n",
       "      <th>std</th>\n",
       "      <td>52815.94</td>\n",
       "    </tr>\n",
       "  </tbody>\n",
       "</table>\n",
       "</div>"
      ],
      "text/plain": [
       "        prevailing_wage\n",
       "count          25480.00\n",
       "min                2.14\n",
       "max           319210.27\n",
       "mean           74455.81\n",
       "median         70308.21\n",
       "std            52815.94"
      ]
     },
     "execution_count": 12,
     "metadata": {},
     "output_type": "execute_result"
    }
   ],
   "source": [
    "## All together\n",
    "\n",
    "list_values=[]\n",
    "wage_count = round(len(visa_df['prevailing_wage']),2)\n",
    "wage_min = round(visa_df['prevailing_wage'].min(),2)\n",
    "wage_max = round(visa_df['prevailing_wage'].max(),2)\n",
    "wage_mean = round(visa_df['prevailing_wage'].mean(),2)\n",
    "wage_median = round(visa_df['prevailing_wage'].median(),2)\n",
    "wage_std = round(visa_df['prevailing_wage'].std(),2)\n",
    "list_values=[wage_count,wage_min,wage_max,\n",
    "             wage_mean,wage_median,wage_std]\n",
    "index_val=['count','min','max','mean','median','std']\n",
    "pd.DataFrame(list_values,\n",
    "            columns=['prevailing_wage'],\n",
    "            index=index_val)"
   ]
  },
  {
   "cell_type": "markdown",
   "id": "5cf279dd-6c27-4909-b430-a54560b86c6d",
   "metadata": {},
   "source": [
    "**Percentile and Quantile**\n",
    "\n",
    "- Percentile:\n",
    "\n",
    "    - np.percentile()\n",
    "\n",
    "    - It will take two arguments\n",
    "\n",
    "            - data : a\n",
    "\n",
    "            - percentile : q, the values varies from 0 to 100\n",
    "\n",
    "            - If you want 50p data, q= 50\n",
    "\n",
    "- Quantile:\n",
    "\n",
    "     - np.quantile()\n",
    "\n",
    "     - It will take two arguments\n",
    "\n",
    "            - data : a\n",
    "\n",
    "            - percentile : q, the values varies from 0 to 1\n",
    "\n",
    "            - If you want 50p data, q= 0.5"
   ]
  },
  {
   "cell_type": "markdown",
   "id": "b02c4459-354a-47b8-a4f5-94855f9f5eeb",
   "metadata": {},
   "source": [
    "**25p-50p-75p**"
   ]
  },
  {
   "cell_type": "code",
   "execution_count": 13,
   "id": "1bb378f0-0c97-443c-99d0-83c5c61aebf3",
   "metadata": {},
   "outputs": [
    {
     "name": "stdout",
     "output_type": "stream",
     "text": [
      "the 25% data is 34015.48\n",
      "the 50% data is 70308.21\n",
      "the 75% data is 107735.51\n"
     ]
    }
   ],
   "source": [
    "# Percentile\n",
    "\n",
    "wage_25p = round(np.percentile(visa_df['prevailing_wage'],25),2)\n",
    "wage_50p = round(np.percentile(visa_df['prevailing_wage'],50),2)\n",
    "wage_75p = round(np.percentile(visa_df['prevailing_wage'],75),2)\n",
    "\n",
    "print(f\"the 25% data is {wage_25p}\")\n",
    "print(f\"the 50% data is {wage_50p}\")\n",
    "print(f\"the 75% data is {wage_75p}\")"
   ]
  },
  {
   "cell_type": "code",
   "execution_count": 14,
   "id": "810e686e-17ea-45be-b380-1b60cd697dde",
   "metadata": {},
   "outputs": [
    {
     "name": "stdout",
     "output_type": "stream",
     "text": [
      "the 25% data is 34015.48\n",
      "the 50% data is 70308.21\n",
      "the 75% data is 107735.51\n"
     ]
    }
   ],
   "source": [
    "# Quantile\n",
    "\n",
    "wage_25p = round(np.quantile(visa_df['prevailing_wage'],0.25),2)\n",
    "wage_50p = round(np.quantile(visa_df['prevailing_wage'],0.50),2)\n",
    "wage_75p = round(np.quantile(visa_df['prevailing_wage'],0.75),2)\n",
    "\n",
    "print(f\"the 25% data is {wage_25p}\")\n",
    "print(f\"the 50% data is {wage_50p}\")\n",
    "print(f\"the 75% data is {wage_75p}\")"
   ]
  },
  {
   "cell_type": "markdown",
   "id": "fa348e23-d085-41ac-9a55-1f319f40d1f8",
   "metadata": {},
   "source": [
    "**Understand the percentiles**\n",
    "\n",
    "- definition of 25 percentile\n",
    "\n",
    "- there are 25% of employees has salary less than 34015\n",
    "\n",
    "- total_employees=25480\n",
    "\n",
    "- 25% of employess= 25*25480/100 =  6370\n",
    "\n",
    "- 6370 employees salary less than 34015\n"
   ]
  },
  {
   "cell_type": "code",
   "execution_count": 56,
   "id": "67c39e9a-ec9c-4c71-84dc-3c4d8d73c7e2",
   "metadata": {},
   "outputs": [
    {
     "data": {
      "text/plain": [
       "6370"
      ]
     },
     "execution_count": 56,
     "metadata": {},
     "output_type": "execute_result"
    }
   ],
   "source": [
    "con= visa_df['prevailing_wage']<34015\n",
    "len(visa_df[con])"
   ]
  },
  {
   "cell_type": "markdown",
   "id": "c6aa6a85-42a8-491e-8cd4-3827cd37c264",
   "metadata": {},
   "source": [
    "- 50% of employees has salary less than 70308\n",
    "\n",
    "- total_employyes=25480\n",
    "\n",
    "- 50% of employees = 50*25480/100 = 12740\n",
    "\n",
    "- 12740 employees salary less than 70308\n"
   ]
  },
  {
   "cell_type": "code",
   "execution_count": 62,
   "id": "4ecc2613-262a-44af-98f5-1d09dc492163",
   "metadata": {},
   "outputs": [
    {
     "data": {
      "text/plain": [
       "12740"
      ]
     },
     "execution_count": 62,
     "metadata": {},
     "output_type": "execute_result"
    }
   ],
   "source": [
    "con1= visa_df['prevailing_wage']<wage_50p\n",
    "len(visa_df[con1])"
   ]
  },
  {
   "cell_type": "markdown",
   "id": "185992b4-e8c7-406e-80fd-35e8e7a3bedd",
   "metadata": {},
   "source": [
    "- 75% of employees has salary less than 107735\n",
    "\n",
    "- total_employyes=25480\n",
    "\n",
    "- 75% of employees = 75*25480/100 = 19110\n",
    "\n",
    "- 19110 employees salary less than 107735"
   ]
  },
  {
   "cell_type": "code",
   "execution_count": 63,
   "id": "44710d3d-b456-4bf5-aa1a-4a80a9300363",
   "metadata": {},
   "outputs": [
    {
     "data": {
      "text/plain": [
       "19110"
      ]
     },
     "execution_count": 63,
     "metadata": {},
     "output_type": "execute_result"
    }
   ],
   "source": [
    "con2= visa_df['prevailing_wage']<wage_75p\n",
    "len(visa_df[con2])"
   ]
  },
  {
   "cell_type": "markdown",
   "id": "0127f64a-9297-4aac-a38c-38a155e43ae5",
   "metadata": {},
   "source": [
    "**Emperical rule(68-95-99.7)**\n",
    "\n",
    "<img src=\"data:image/jpeg;base64,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\" data-deferred=\"1\" class=\"rg_i Q4LuWd\" jsname=\"Q4LuWd\" width=\"318\" height=\"159\" alt=\"Empirical Rule (68-95-99.7) Explained | Built In\" data-iml=\"991.8999999761581\" data-atf=\"true\">"
   ]
  },
  {
   "cell_type": "markdown",
   "id": "439b447f-9c8c-4a65-a0e0-c39ec47450e6",
   "metadata": {},
   "source": [
    "<style type=\"text/css\">#svctrl #svctrltri{width:50px;height:100%;position:absolute;cursor:pointer;z-index:1}#svctrltri{opacity:0}#svhvrsub.b_scpers #svctrl #svctrltri{height:0}#svctrl.b_flyt #svflytc{pointer-events:auto}#svflytc{position:absolute;display:inline-block;visibility:hidden;padding:0;border-radius:8px;box-shadow:0 0 4px rgba(0,0,0,.1),0 2px 4px rgba(0,0,0,.25);-webkit-box-shadow:0 0 4px rgba(0,0,0,.1),0 2px 4px rgba(0,0,0,.25);height:auto;font-family:'Segoe UI',sans-serif;z-index:8}#svflytc:after{content:'';height:calc(100% + 8px);width:100%;top:-8px;right:0;left:0;bottom:0;position:absolute;z-index:-1}#svflytc .scflyt.b_scactive{border-radius:8px;min-width:100px;line-height:20px;white-space:normal;box-shadow:0 0 4px rgba(0,0,0,.1),0 2px 4px rgba(0,0,0,.25);-webkit-box-shadow:0 0 4px rgba(0,0,0,.1),0 2px 4px rgba(0,0,0,.25);z-index:2}.scflyt p{margin:0}.scflyt p span{font:inherit}#svctrlerr.scflyt:not(.b_scactive),#svctrlerr.scflyt:not(.b_scactive) *{visibility:hidden}#svctrlerr.scflyt.b_scactive{border-top:thin transparent solid;padding:8px 12px;width:200px}#svctrlerr span{width:100%}.scflyt.b_scactive{padding:8px}#svctrl.b_flyt:hover #svflytc,#svctrl.b_flyt:focus #svflytc,#svctrl.b_flyt.b_scnapd #svflytc,.scflyt.b_scactive,#svhvrsub.ing #svctrlhvrpnling,#svctrlhvrpnlbtn{display:inline-block;visibility:visible}#svhvrsub.b_isvfoc #svflytc,#svctrl.b_flyt:hover #svflytc,#svctrl.b_flyt:focus #svflytc,#svctrlbtn:hover~#svflytc,#svctrlbtn:focus~#svflytc,#svhvrsub .b_sclbl{display:inline-block;z-index:5;overflow:visible}.scflyt:not(.b_scactive){display:block;max-height:0;visibility:hidden;padding:0}#svctrlhvrpnling,#svctrlhvrpnltxt{display:none;margin:auto;-webkit-user-select:none;user-select:none}#svctrllnk{padding:0 5px;font-size:1em}#svctrlinlineform:not(.b_scactive),#svctrlhvrbtn:not(.b_scactive){display:none}#svctrlcrtfrm{display:flex;bottom:0;min-height:52px;width:100%;border-radius:0 0 8px 8px;box-shadow:0 0 2px 0 rgba(0,0,0,.12),0 8px 16px 0 rgba(0,0,0,.14)}#svctrlinlineform{position:absolute;z-index:6;bottom:10px;left:0;right:0;border-top:1px solid rgba(0,0,0,.09);border-radius:0 0 8px 8px}.scinline{padding:6px 6px 4px 8px}.scinline :last-child{float:right}#svctrlnewinlineformhdr{font-size:inherit;font-weight:400;display:inline-block;padding:0;margin:0}.scinptbtn{padding:6px;z-index:6}.scdactve{pointer-events:none;opacity:.2}#svctrlinlineformname{width:170px}#svctrlinlineformcreate{opacity:1}#svctrlinlineformcreate[aria-disabled=\"true\"]{opacity:.2}#svctrlinlineformcreate:hover,#svctrlinlineformback:hover{cursor:pointer}#svctrlinlineformcreate[aria-disabled=\"true\"]:hover{cursor:default}.scflyt.b_scactive p:not(.onusvd):not(.onsvd):not(.b_ignbt),.scflyt.b_scactive a:not(.onusvd):not(.onsvd),.scflyt.b_scactive span:not(.onusvd):not(.onsvd){display:inline-block;visibility:inherit;white-space:nowrap;width:-moz-fit-content;width:fit-content;margin-top:auto;margin-bottom:auto}.scflyt:not(.b_scactive),.scflyt:not(.b_scactive) *{visibility:hidden;max-height:0;max-width:0;padding:0;display:none}#svctrllnk,#svctrlmsmtchlnk{max-width:110px;overflow:hidden;text-overflow:ellipsis;vertical-align:bottom;cursor:pointer;text-decoration-line:none}#svctrlhvrpnlbtn:hover{cursor:pointer;color:#0078d4}#svctrlerr span{white-space:normal}#svctrlhvr.b_scactive,#svctrlhvrpnl{padding:0}.b_scactive #svctrlhvrpnllbl{line-height:16px;font-size:12px;font-weight:600}.b_scactive #svctrlhvrbtn{display:flex;font-size:12px;font-weight:400;line-height:16px;width:100%}.b_scactive #svctrlhvrbtn:hover{border-radius:0 0 8px 8px}.b_scactive #svctrlic{width:28px;height:28px;border-radius:14px;margin:auto 12px auto 16px;display:flex}.b_scactive #svctrlhvrplus{text-decoration:inherit;width:28px;height:28px;margin:auto;display:inline-block}.b_scactive #svctrlhvrplus img{vertical-align:baseline}#svctrlhvr{width:248px;position:relative}.b_scerr{color:#c80000;display:none}.b_scerr.b_scdisp{display:inline-block;padding-left:8px}#svhvrsub.b_scpers #svctrl{width:100%;height:100%;pointer-events:auto;margin:0}#svhvrsub.b_scpers.b_scpers #svctrlbtn,#svhvrsub.b_scpers.b_scpers #svctrlbtn img{opacity:0;width:100%;height:100%;pointer-events:auto;padding:0}#svctrlerr .errvsbl{display:inline-block;border-left:solid #f00 3px;padding:0 10px}#svctrlerr .errinvsbl{display:none}#svctrllstw::-webkit-scrollbar{width:12px;background:initial}#svctrllstw::-webkit-scrollbar-track{border-radius:8px}#svctrllstw::-webkit-scrollbar-thumb{background:#8d8d8d;border-radius:8px;border:3px solid transparent;background-clip:content-box;height:75px}#svctrllstw::-webkit-scrollbar-thumb:hover{background:#a7a7a7;border-radius:8px;border:3px solid transparent;background-clip:content-box;height:75px}@media(forced-colors:active) and (prefers-color-scheme:dark){.b_svcitm[data-svd=\"1\"] .b_svcimg::after{background-image:var(--svicn-colpck-HCM)}.b_svcitm:not([data-svd=\"1\"]):hover .b_svcimg::after{background-image:var(--unsvicn-colpck-HCM)}}#svctrlsuglst .b_svcimg3{width:37px;height:37px;background-image:var(--svicn-sug-create-bg-img);background-color:#ccc;background-size:contain;background-position:0 2px;border-radius:4px;position:relative;top:3px}#svctrllstw #svctrlcollgrouptitle,#svctrllstw .cl_gtl{padding:8px 12px;font-size:11px}#svhvrsub:not(.b_scpers) #svctrl:not(.b_nrrwimgr):not(.b_nrrwimgb):not(.b_nrrwimg) #svflytc{left:6px;top:0}#svctrl.b_nrrwimg:not(.b_nrrwimgr):not(.b_nrrwimgb) #svflytc{top:36px}#svhvrsub:not(.b_scpers) #svctrl.b_nrrwimgb.b_nrrwimgr #svflytc{top:unset;bottom:12px;right:calc(100% - 32px);left:unset}#svhvrsub:not(.b_scpers) #svctrl.b_nrrwimgb #svflytc{top:unset;bottom:calc(100% - 32px);left:6px}#svhvrsub:not(.b_scpers) #svctrl.b_nrrwimgr #svflytc{left:initial;top:40px;right:0}#svhvrsub.b_scpers #svctrl.b_nrrwimgr #svflytc{left:calc(-100%)}#svhvrsub.b_scpers #svctrl.b_nrrwimgb #svflytc{bottom:calc(100%)}</style>"
   ]
  },
  {
   "cell_type": "markdown",
   "id": "10e21aac-84e7-4bcb-85db-dca39d0a22e1",
   "metadata": {},
   "source": [
    "- First Calculate mean value\n",
    "\n",
    "- Second calculate std value\n",
    "\n",
    "- con1: mean-1*std\n",
    "\n",
    "- con2: mean+1*std\n",
    "\n",
    "- if you apply above conditions on wage data, the output count should be equal to 68 percentile data\n",
    "\n",
    "- 68% of total employees: 17326"
   ]
  },
  {
   "cell_type": "code",
   "execution_count": 28,
   "id": "3831a099-c914-407d-9e4a-c1f732e80aea",
   "metadata": {},
   "outputs": [
    {
     "data": {
      "text/plain": [
       "(17171, 17326.4)"
      ]
     },
     "execution_count": 28,
     "metadata": {},
     "output_type": "execute_result"
    }
   ],
   "source": [
    "v1=wage_mean-1*wage_std\n",
    "v2=wage_mean+1*wage_std\n",
    "v1,v2\n",
    "con1=visa_df['prevailing_wage']>v1\n",
    "con2=visa_df['prevailing_wage']<v2\n",
    "\n",
    "count1=len(visa_df[con1 & con2])\n",
    "#############################\n",
    "count1, 68*25480/100"
   ]
  },
  {
   "cell_type": "code",
   "execution_count": 31,
   "id": "d487244b-fe9e-40f7-8256-9c5ffd5db06e",
   "metadata": {},
   "outputs": [
    {
     "data": {
      "text/html": [
       "<div>\n",
       "<style scoped>\n",
       "    .dataframe tbody tr th:only-of-type {\n",
       "        vertical-align: middle;\n",
       "    }\n",
       "\n",
       "    .dataframe tbody tr th {\n",
       "        vertical-align: top;\n",
       "    }\n",
       "\n",
       "    .dataframe thead th {\n",
       "        text-align: right;\n",
       "    }\n",
       "</style>\n",
       "<table border=\"1\" class=\"dataframe\">\n",
       "  <thead>\n",
       "    <tr style=\"text-align: right;\">\n",
       "      <th></th>\n",
       "      <th>prevailing_wage</th>\n",
       "    </tr>\n",
       "  </thead>\n",
       "  <tbody>\n",
       "    <tr>\n",
       "      <th>count</th>\n",
       "      <td>25480.00</td>\n",
       "    </tr>\n",
       "    <tr>\n",
       "      <th>min</th>\n",
       "      <td>2.14</td>\n",
       "    </tr>\n",
       "    <tr>\n",
       "      <th>max</th>\n",
       "      <td>319210.27</td>\n",
       "    </tr>\n",
       "    <tr>\n",
       "      <th>mean</th>\n",
       "      <td>74455.81</td>\n",
       "    </tr>\n",
       "    <tr>\n",
       "      <th>median</th>\n",
       "      <td>70308.21</td>\n",
       "    </tr>\n",
       "    <tr>\n",
       "      <th>std</th>\n",
       "      <td>52815.94</td>\n",
       "    </tr>\n",
       "    <tr>\n",
       "      <th>25%</th>\n",
       "      <td>34015.48</td>\n",
       "    </tr>\n",
       "    <tr>\n",
       "      <th>50%</th>\n",
       "      <td>70308.21</td>\n",
       "    </tr>\n",
       "    <tr>\n",
       "      <th>75%</th>\n",
       "      <td>107735.51</td>\n",
       "    </tr>\n",
       "  </tbody>\n",
       "</table>\n",
       "</div>"
      ],
      "text/plain": [
       "        prevailing_wage\n",
       "count          25480.00\n",
       "min                2.14\n",
       "max           319210.27\n",
       "mean           74455.81\n",
       "median         70308.21\n",
       "std            52815.94\n",
       "25%            34015.48\n",
       "50%            70308.21\n",
       "75%           107735.51"
      ]
     },
     "execution_count": 31,
     "metadata": {},
     "output_type": "execute_result"
    }
   ],
   "source": [
    "## All together\n",
    "\n",
    "list_values=[]\n",
    "wage_count = round(len(visa_df['prevailing_wage']),2)\n",
    "wage_min = round(visa_df['prevailing_wage'].min(),2)\n",
    "wage_max = round(visa_df['prevailing_wage'].max(),2)\n",
    "wage_mean = round(visa_df['prevailing_wage'].mean(),2)\n",
    "wage_median = round(visa_df['prevailing_wage'].median(),2)\n",
    "wage_std = round(visa_df['prevailing_wage'].std(),2)\n",
    "\n",
    "#############################################################\n",
    "wage_25p = round(np.quantile(visa_df['prevailing_wage'],0.25),2)\n",
    "wage_50p = round(np.quantile(visa_df['prevailing_wage'],0.50),2)\n",
    "wage_75p = round(np.quantile(visa_df['prevailing_wage'],0.75),2)\n",
    "############################################################\n",
    "list_values=[wage_count,wage_min,wage_max,\n",
    "             wage_mean,wage_median,wage_std,\n",
    "            wage_25p,wage_50p,wage_75p]\n",
    "index_val=['count','min','max','mean','median','std',\n",
    "          '25%','50%','75%']\n",
    "pd.DataFrame(list_values,\n",
    "            columns=['prevailing_wage'],\n",
    "            index=index_val)"
   ]
  },
  {
   "cell_type": "code",
   "execution_count": 46,
   "id": "582239c8-f72d-47db-8d7c-c3c4d92df145",
   "metadata": {},
   "outputs": [
    {
     "data": {
      "text/html": [
       "<div>\n",
       "<style scoped>\n",
       "    .dataframe tbody tr th:only-of-type {\n",
       "        vertical-align: middle;\n",
       "    }\n",
       "\n",
       "    .dataframe tbody tr th {\n",
       "        vertical-align: top;\n",
       "    }\n",
       "\n",
       "    .dataframe thead th {\n",
       "        text-align: right;\n",
       "    }\n",
       "</style>\n",
       "<table border=\"1\" class=\"dataframe\">\n",
       "  <thead>\n",
       "    <tr style=\"text-align: right;\">\n",
       "      <th></th>\n",
       "      <th>count</th>\n",
       "      <th>min</th>\n",
       "      <th>max</th>\n",
       "      <th>mean</th>\n",
       "      <th>median</th>\n",
       "      <th>std</th>\n",
       "      <th>25%</th>\n",
       "      <th>50%</th>\n",
       "      <th>75%</th>\n",
       "    </tr>\n",
       "  </thead>\n",
       "  <tbody>\n",
       "    <tr>\n",
       "      <th>no_of_employees</th>\n",
       "      <td>25480</td>\n",
       "      <td>-26.00</td>\n",
       "      <td>602069.00</td>\n",
       "      <td>5667.04</td>\n",
       "      <td>2109.00</td>\n",
       "      <td>22877.93</td>\n",
       "      <td>1022.00</td>\n",
       "      <td>2109.00</td>\n",
       "      <td>3504.00</td>\n",
       "    </tr>\n",
       "    <tr>\n",
       "      <th>yr_of_estab</th>\n",
       "      <td>25480</td>\n",
       "      <td>1800.00</td>\n",
       "      <td>2016.00</td>\n",
       "      <td>1979.41</td>\n",
       "      <td>1997.00</td>\n",
       "      <td>42.37</td>\n",
       "      <td>1976.00</td>\n",
       "      <td>1997.00</td>\n",
       "      <td>2005.00</td>\n",
       "    </tr>\n",
       "    <tr>\n",
       "      <th>prevailing_wage</th>\n",
       "      <td>25480</td>\n",
       "      <td>2.14</td>\n",
       "      <td>319210.27</td>\n",
       "      <td>74455.81</td>\n",
       "      <td>70308.21</td>\n",
       "      <td>52815.94</td>\n",
       "      <td>34015.48</td>\n",
       "      <td>70308.21</td>\n",
       "      <td>107735.51</td>\n",
       "    </tr>\n",
       "  </tbody>\n",
       "</table>\n",
       "</div>"
      ],
      "text/plain": [
       "                 count      min        max      mean    median       std  \\\n",
       "no_of_employees  25480   -26.00  602069.00   5667.04   2109.00  22877.93   \n",
       "yr_of_estab      25480  1800.00    2016.00   1979.41   1997.00     42.37   \n",
       "prevailing_wage  25480     2.14  319210.27  74455.81  70308.21  52815.94   \n",
       "\n",
       "                      25%       50%        75%  \n",
       "no_of_employees   1022.00   2109.00    3504.00  \n",
       "yr_of_estab       1976.00   1997.00    2005.00  \n",
       "prevailing_wage  34015.48  70308.21  107735.51  "
      ]
     },
     "execution_count": 46,
     "metadata": {},
     "output_type": "execute_result"
    }
   ],
   "source": [
    "## All together\n",
    "l1=[]\n",
    "cols=visa_df.select_dtypes(exclude='object').columns\n",
    "for i in cols:\n",
    "    countt = round(len(visa_df[i]),2)\n",
    "    minn = round(visa_df[i].min(),2)\n",
    "    maxx = round(visa_df[i].max(),2)\n",
    "    mean = round(visa_df[i].mean(),2)\n",
    "    median = round(visa_df[i].median(),2)\n",
    "    std = round(visa_df[i].std(),2)\n",
    "\n",
    "    p_25 = round(np.quantile(visa_df[i],0.25),2)\n",
    "    p_50 = round(np.quantile(visa_df[i],0.50),2)\n",
    "    p_75 = round(np.quantile(visa_df[i],0.75),2)\n",
    "    l1.append([countt,minn,maxx,mean,median,std,p_25,p_50,p_75])\n",
    "l1\n",
    "index_val=['count','min','max','mean','median','std','25%','50%','75%']\n",
    "df=pd.DataFrame(l1,\n",
    "                columns=index_val,\n",
    "                index=cols)\n",
    "df"
   ]
  },
  {
   "cell_type": "code",
   "execution_count": null,
   "id": "9a338c6a-a22e-4649-883f-bb62f02fff02",
   "metadata": {},
   "outputs": [],
   "source": [
    "# Whatever we did till now will increase our  python skills"
   ]
  },
  {
   "cell_type": "markdown",
   "id": "33f8769a-c6c0-4861-8e5b-619a4c8c5e21",
   "metadata": {},
   "source": [
    "**Describe**"
   ]
  },
  {
   "cell_type": "code",
   "execution_count": 47,
   "id": "baa0dc86-b683-4382-a54b-dd303a0f9c41",
   "metadata": {},
   "outputs": [
    {
     "data": {
      "text/html": [
       "<div>\n",
       "<style scoped>\n",
       "    .dataframe tbody tr th:only-of-type {\n",
       "        vertical-align: middle;\n",
       "    }\n",
       "\n",
       "    .dataframe tbody tr th {\n",
       "        vertical-align: top;\n",
       "    }\n",
       "\n",
       "    .dataframe thead th {\n",
       "        text-align: right;\n",
       "    }\n",
       "</style>\n",
       "<table border=\"1\" class=\"dataframe\">\n",
       "  <thead>\n",
       "    <tr style=\"text-align: right;\">\n",
       "      <th></th>\n",
       "      <th>no_of_employees</th>\n",
       "      <th>yr_of_estab</th>\n",
       "      <th>prevailing_wage</th>\n",
       "    </tr>\n",
       "  </thead>\n",
       "  <tbody>\n",
       "    <tr>\n",
       "      <th>count</th>\n",
       "      <td>25480.000000</td>\n",
       "      <td>25480.000000</td>\n",
       "      <td>25480.000000</td>\n",
       "    </tr>\n",
       "    <tr>\n",
       "      <th>mean</th>\n",
       "      <td>5667.043210</td>\n",
       "      <td>1979.409929</td>\n",
       "      <td>74455.814592</td>\n",
       "    </tr>\n",
       "    <tr>\n",
       "      <th>std</th>\n",
       "      <td>22877.928848</td>\n",
       "      <td>42.366929</td>\n",
       "      <td>52815.942327</td>\n",
       "    </tr>\n",
       "    <tr>\n",
       "      <th>min</th>\n",
       "      <td>-26.000000</td>\n",
       "      <td>1800.000000</td>\n",
       "      <td>2.136700</td>\n",
       "    </tr>\n",
       "    <tr>\n",
       "      <th>25%</th>\n",
       "      <td>1022.000000</td>\n",
       "      <td>1976.000000</td>\n",
       "      <td>34015.480000</td>\n",
       "    </tr>\n",
       "    <tr>\n",
       "      <th>50%</th>\n",
       "      <td>2109.000000</td>\n",
       "      <td>1997.000000</td>\n",
       "      <td>70308.210000</td>\n",
       "    </tr>\n",
       "    <tr>\n",
       "      <th>75%</th>\n",
       "      <td>3504.000000</td>\n",
       "      <td>2005.000000</td>\n",
       "      <td>107735.512500</td>\n",
       "    </tr>\n",
       "    <tr>\n",
       "      <th>max</th>\n",
       "      <td>602069.000000</td>\n",
       "      <td>2016.000000</td>\n",
       "      <td>319210.270000</td>\n",
       "    </tr>\n",
       "  </tbody>\n",
       "</table>\n",
       "</div>"
      ],
      "text/plain": [
       "       no_of_employees   yr_of_estab  prevailing_wage\n",
       "count     25480.000000  25480.000000     25480.000000\n",
       "mean       5667.043210   1979.409929     74455.814592\n",
       "std       22877.928848     42.366929     52815.942327\n",
       "min         -26.000000   1800.000000         2.136700\n",
       "25%        1022.000000   1976.000000     34015.480000\n",
       "50%        2109.000000   1997.000000     70308.210000\n",
       "75%        3504.000000   2005.000000    107735.512500\n",
       "max      602069.000000   2016.000000    319210.270000"
      ]
     },
     "execution_count": 47,
     "metadata": {},
     "output_type": "execute_result"
    }
   ],
   "source": [
    "visa_df.describe()  # for only numerical data"
   ]
  },
  {
   "cell_type": "markdown",
   "id": "078392cd-ff4b-4a17-90f4-c064103ee365",
   "metadata": {},
   "source": [
    "**Histogram**"
   ]
  },
  {
   "cell_type": "markdown",
   "id": "117d420f-874b-42b7-b474-1e575d36e203",
   "metadata": {},
   "source": [
    "- Histogram can get by matplotlib\n",
    "\n",
    "- Histogram can get by seaborn also\n",
    "\n",
    "- plt.hist()"
   ]
  },
  {
   "cell_type": "code",
   "execution_count": 48,
   "id": "85247993-bb03-4a5b-8f3b-5fff996d3707",
   "metadata": {},
   "outputs": [
    {
     "data": {
      "text/plain": [
       "(array([6038., 5504., 5681., 4551., 2334.,  624.,  373.,  240.,  114.,\n",
       "          21.]),\n",
       " array([2.13670000e+00, 3.19229500e+04, 6.38437634e+04, 9.57645767e+04,\n",
       "        1.27685390e+05, 1.59606203e+05, 1.91527017e+05, 2.23447830e+05,\n",
       "        2.55368643e+05, 2.87289457e+05, 3.19210270e+05]),\n",
       " <BarContainer object of 10 artists>)"
      ]
     },
     "execution_count": 48,
     "metadata": {},
     "output_type": "execute_result"
    },
    {
     "data": {
      "image/png": "[encoded data removed]",
      "text/plain": [
       "<Figure size 640x480 with 1 Axes>"
      ]
     },
     "metadata": {},
     "output_type": "display_data"
    }
   ],
   "source": [
    "import matplotlib.pyplot as plt\n",
    "plt.hist(visa_df['prevailing_wage'])"
   ]
  },
  {
   "cell_type": "markdown",
   "id": "0ba46135-0d2c-4fb3-ad50-da1123a4ae8c",
   "metadata": {},
   "source": [
    "from interval range\n",
    "\n",
    "- 2.13670000e+00 to 3.19229500+04\n",
    "\n",
    "    - 6038 members have salary\n",
    "\n",
    "- 3.19229500e+04 to 6.38437634e+04\n",
    "\n",
    "    - 5504 members have salary\n",
    "\n",
    "- Histogram will give 3 outputs\n",
    "\n",
    "   - frequency\n",
    "\n",
    "       - in each interval range how many obdervations are there\n",
    " \n",
    "   - interval\n",
    " \n",
    "       - interval range\n",
    " \n",
    "   - number of intervals"
   ]
  },
  {
   "cell_type": "markdown",
   "id": "c9c3f2ff-fa1e-45b1-af0e-2af476a61436",
   "metadata": {},
   "source": [
    "**Check point-1**"
   ]
  },
  {
   "cell_type": "code",
   "execution_count": 50,
   "id": "421f84a3-a254-483b-b756-6608bb5a1a91",
   "metadata": {},
   "outputs": [
    {
     "data": {
      "text/plain": [
       "(2.1367, 31922.95)"
      ]
     },
     "execution_count": 50,
     "metadata": {},
     "output_type": "execute_result"
    }
   ],
   "source": [
    "2.13670000e+00, 3.19229500e+04"
   ]
  },
  {
   "cell_type": "code",
   "execution_count": 52,
   "id": "c9abbd10-a343-4c96-b75e-41f7edb2676c",
   "metadata": {},
   "outputs": [
    {
     "data": {
      "text/plain": [
       "6037"
      ]
     },
     "execution_count": 52,
     "metadata": {},
     "output_type": "execute_result"
    }
   ],
   "source": [
    "con1=visa_df['prevailing_wage']>=2.1367\n",
    "con2=visa_df['prevailing_wage']<31922.95\n",
    "len(visa_df[con1&con2])"
   ]
  },
  {
   "cell_type": "markdown",
   "id": "f41f5a73-b9a9-4590-b6b2-509943fa3acd",
   "metadata": {},
   "source": [
    "**Bins**"
   ]
  },
  {
   "cell_type": "code",
   "execution_count": 55,
   "id": "7155d8db-47b9-4520-b368-cf8b599720f6",
   "metadata": {},
   "outputs": [
    {
     "name": "stdout",
     "output_type": "stream",
     "text": [
      "<BarContainer object of 40 artists>\n"
     ]
    },
    {
     "data": {
      "image/png": "[encoded data removed]",
      "text/plain": [
       "<Figure size 640x480 with 1 Axes>"
      ]
     },
     "metadata": {},
     "output_type": "display_data"
    }
   ],
   "source": [
    "import matplotlib.pyplot as plt\n",
    "f,i,n=plt.hist(visa_df['prevailing_wage'],\n",
    "         bins=40)\n",
    "print(n)\n",
    "# bins means more intervals"
   ]
  },
  {
   "cell_type": "code",
   "execution_count": 56,
   "id": "8b181537-7c89-44e7-a5f5-2609d38f83ea",
   "metadata": {},
   "outputs": [
    {
     "data": {
      "image/png": "[encoded data removed]",
      "text/plain": [
       "<Figure size 640x480 with 1 Axes>"
      ]
     },
     "metadata": {},
     "output_type": "display_data"
    }
   ],
   "source": [
    "import matplotlib.pyplot as plt\n",
    "plt.hist(visa_df['prevailing_wage'],bins=40)\n",
    "plt.title(\"Histogram\")\n",
    "plt.xlabel(\"class Interval\")\n",
    "plt.ylabel(\"Count\")\n",
    "plt.show()"
   ]
  },
  {
   "cell_type": "code",
   "execution_count": 59,
   "id": "092ae9fa-4d6b-4b2b-8730-8511adcdb98d",
   "metadata": {},
   "outputs": [
    {
     "data": {
      "image/png": "[encoded data removed]",
      "text/plain": [
       "<Figure size 1800x300 with 1 Axes>"
      ]
     },
     "metadata": {},
     "output_type": "display_data"
    },
    {
     "data": {
      "image/png": "[encoded data removed]",
      "text/plain": [
       "<Figure size 640x480 with 1 Axes>"
      ]
     },
     "metadata": {},
     "output_type": "display_data"
    },
    {
     "data": {
      "image/png": "[encoded data removed]",
      "text/plain": [
       "<Figure size 640x480 with 1 Axes>"
      ]
     },
     "metadata": {},
     "output_type": "display_data"
    }
   ],
   "source": [
    "import matplotlib.pyplot as plt\n",
    "plt.figure(figsize=(18,3))\n",
    "plt.subplot(1,3,1)\n",
    "plt.hist(visa_df['prevailing_wage'],bins=40)\n",
    "plt.title(\"Histogram\")\n",
    "plt.xlabel(\"class Interval\")\n",
    "plt.ylabel(\"Count\")\n",
    "plt.show()\n",
    "\n",
    "plt.subplot(1,3,2)\n",
    "plt.hist(visa_df['no_of_employees'],bins=40)\n",
    "plt.title(\"Histogram\")\n",
    "plt.xlabel(\"class Interval\")\n",
    "plt.ylabel(\"Count\")\n",
    "plt.show()\n",
    "\n",
    "plt.subplot(1,3,3)\n",
    "plt.hist(visa_df['yr_of_estab'],bins=40)\n",
    "plt.title(\"Histogram\")\n",
    "plt.xlabel(\"class Interval\")\n",
    "plt.ylabel(\"Count\")\n",
    "plt.show()\n"
   ]
  },
  {
   "cell_type": "code",
   "execution_count": 60,
   "id": "7ec5d7a1-748b-4896-a416-c14bc486b6ae",
   "metadata": {},
   "outputs": [
    {
     "data": {
      "image/png": "[encoded data removed]",
      "text/plain": [
       "<Figure size 1800x300 with 3 Axes>"
      ]
     },
     "metadata": {},
     "output_type": "display_data"
    }
   ],
   "source": [
    "import matplotlib.pyplot as plt\n",
    "plt.figure(figsize=(18,3))\n",
    "for i in range(len(cols)):\n",
    "    plt.subplot(1,len(cols),i+1)\n",
    "    plt.hist(visa_df[cols[i]],bins=40)\n",
    "    plt.title(f\"Histogram of {cols[i]}\")\n",
    "    plt.xlabel(\"class Interval\")\n",
    "    plt.ylabel(\"Count\")"
   ]
  },
  {
   "cell_type": "markdown",
   "id": "8e26cedc-e2e0-4cee-bf71-68ca6be05c0e",
   "metadata": {},
   "source": [
    "**Histogram using seaborn**\n",
    "\n",
    "- histplot\n",
    "\n",
    "- distplot"
   ]
  },
  {
   "cell_type": "code",
   "execution_count": 64,
   "id": "76ace48d-b04f-448a-b093-47f8f3da9b4b",
   "metadata": {},
   "outputs": [],
   "source": [
    "import seaborn as sns"
   ]
  },
  {
   "cell_type": "code",
   "execution_count": 66,
   "id": "c9f61f07-6ad2-447d-a9b4-a55437b7edbb",
   "metadata": {},
   "outputs": [
    {
     "name": "stderr",
     "output_type": "stream",
     "text": [
      "C:\\Users\\gunda\\anaconda3\\Lib\\site-packages\\seaborn\\_oldcore.py:1119: FutureWarning: use_inf_as_na option is deprecated and will be removed in a future version. Convert inf values to NaN before operating instead.\n",
      "  with pd.option_context('mode.use_inf_as_na', True):\n"
     ]
    },
    {
     "data": {
      "text/plain": [
       "<Axes: xlabel='prevailing_wage', ylabel='Count'>"
      ]
     },
     "execution_count": 66,
     "metadata": {},
     "output_type": "execute_result"
    },
    {
     "data": {
      "image/png": "[encoded data removed]",
      "text/plain": [
       "<Figure size 640x480 with 1 Axes>"
      ]
     },
     "metadata": {},
     "output_type": "display_data"
    }
   ],
   "source": [
    "sns.histplot(visa_df['prevailing_wage'])"
   ]
  },
  {
   "cell_type": "code",
   "execution_count": 69,
   "id": "cc73bcd9-4bc9-4814-95ce-bc454181207f",
   "metadata": {},
   "outputs": [
    {
     "data": {
      "text/plain": [
       "<Axes: xlabel='prevailing_wage', ylabel='Density'>"
      ]
     },
     "execution_count": 69,
     "metadata": {},
     "output_type": "execute_result"
    },
    {
     "data": {
      "image/png": "[encoded data removed]",
      "text/plain": [
       "<Figure size 640x480 with 1 Axes>"
      ]
     },
     "metadata": {},
     "output_type": "display_data"
    }
   ],
   "source": [
    "import warnings\n",
    "warnings.filterwarnings(\"ignore\")\n",
    "sns.distplot(visa_df['prevailing_wage'])"
   ]
  },
  {
   "cell_type": "code",
   "execution_count": null,
   "id": "123801ec-def2-4fe5-88a7-ddb6656b78a4",
   "metadata": {},
   "outputs": [],
   "source": []
  }
 ],
 "metadata": {
  "kernelspec": {
   "display_name": "Python 3 (ipykernel)",
   "language": "python",
   "name": "python3"
  },
  "language_info": {
   "codemirror_mode": {
    "name": "ipython",
    "version": 3
   },
   "file_extension": ".py",
   "mimetype": "text/x-python",
   "name": "python",
   "nbconvert_exporter": "python",
   "pygments_lexer": "ipython3",
   "version": "3.11.7"
  }
 },
 "nbformat": 4,
 "nbformat_minor": 5
}
