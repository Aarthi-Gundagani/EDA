{
 "cells": [
  {
   "cell_type": "code",
   "execution_count": 1,
   "id": "7d465bbb-2bb8-47de-ad2d-40ea2b15be7c",
   "metadata": {},
   "outputs": [],
   "source": [
    "import pandas as pd\n",
    "import numpy as np"
   ]
  },
  {
   "cell_type": "code",
   "execution_count": 2,
   "id": "8f903d4d-d0c7-430f-8b2a-a81b999b67ca",
   "metadata": {},
   "outputs": [
    {
     "data": {
      "text/plain": [
       "{'Names': ['Aravind', 'Samar', nan, 'Siri'],\n",
       " 'Age': [nan, 21, 32, 43],\n",
       " 'City': ['Hyd', 'Blr', 'Chennai', nan]}"
      ]
     },
     "execution_count": 2,
     "metadata": {},
     "output_type": "execute_result"
    }
   ],
   "source": [
    "dict1= {'Names': ['Aravind','Samar',np.nan,'Siri'],\n",
    "        'Age':[np.nan,21,32,43],\n",
    "        'City':['Hyd','Blr','Chennai',np.nan]}\n",
    "\n",
    "dict1"
   ]
  },
  {
   "cell_type": "code",
   "execution_count": 3,
   "id": "4c2802e9-2977-4686-a43a-5f6d7fe1577c",
   "metadata": {},
   "outputs": [
    {
     "data": {
      "text/html": [
       "<div>\n",
       "<style scoped>\n",
       "    .dataframe tbody tr th:only-of-type {\n",
       "        vertical-align: middle;\n",
       "    }\n",
       "\n",
       "    .dataframe tbody tr th {\n",
       "        vertical-align: top;\n",
       "    }\n",
       "\n",
       "    .dataframe thead th {\n",
       "        text-align: right;\n",
       "    }\n",
       "</style>\n",
       "<table border=\"1\" class=\"dataframe\">\n",
       "  <thead>\n",
       "    <tr style=\"text-align: right;\">\n",
       "      <th></th>\n",
       "      <th>Names</th>\n",
       "      <th>Age</th>\n",
       "      <th>City</th>\n",
       "    </tr>\n",
       "  </thead>\n",
       "  <tbody>\n",
       "    <tr>\n",
       "      <th>0</th>\n",
       "      <td>Aravind</td>\n",
       "      <td>NaN</td>\n",
       "      <td>Hyd</td>\n",
       "    </tr>\n",
       "    <tr>\n",
       "      <th>1</th>\n",
       "      <td>Samar</td>\n",
       "      <td>21.0</td>\n",
       "      <td>Blr</td>\n",
       "    </tr>\n",
       "    <tr>\n",
       "      <th>2</th>\n",
       "      <td>NaN</td>\n",
       "      <td>32.0</td>\n",
       "      <td>Chennai</td>\n",
       "    </tr>\n",
       "    <tr>\n",
       "      <th>3</th>\n",
       "      <td>Siri</td>\n",
       "      <td>43.0</td>\n",
       "      <td>NaN</td>\n",
       "    </tr>\n",
       "  </tbody>\n",
       "</table>\n",
       "</div>"
      ],
      "text/plain": [
       "     Names   Age     City\n",
       "0  Aravind   NaN      Hyd\n",
       "1    Samar  21.0      Blr\n",
       "2      NaN  32.0  Chennai\n",
       "3     Siri  43.0      NaN"
      ]
     },
     "execution_count": 3,
     "metadata": {},
     "output_type": "execute_result"
    }
   ],
   "source": [
    "pd.DataFrame(dict1)"
   ]
  },
  {
   "cell_type": "code",
   "execution_count": 10,
   "id": "a5ffd765-d5b6-4450-89cd-e90422994e4b",
   "metadata": {},
   "outputs": [
    {
     "data": {
      "text/plain": [
       "{'Names': ['Aravind', 'Samar', nan, 'Siri'],\n",
       " 'Age': [nan, 21, 32, 43],\n",
       " 'City': ['Hyd', 'Blr', 'Chennai', nan]}"
      ]
     },
     "execution_count": 10,
     "metadata": {},
     "output_type": "execute_result"
    }
   ],
   "source": [
    "d1={'Names': ['Aravind','Samar',np.nan,'Siri'],\n",
    "        'Age':[np.nan,21,32,43],\n",
    "        'City':['Hyd','Blr','Chennai',np.nan]}\n",
    "\n",
    "d1"
   ]
  },
  {
   "cell_type": "code",
   "execution_count": 13,
   "id": "72204c54-1e15-40d2-aec1-a3ad0edbbbe8",
   "metadata": {},
   "outputs": [
    {
     "data": {
      "text/html": [
       "<div>\n",
       "<style scoped>\n",
       "    .dataframe tbody tr th:only-of-type {\n",
       "        vertical-align: middle;\n",
       "    }\n",
       "\n",
       "    .dataframe tbody tr th {\n",
       "        vertical-align: top;\n",
       "    }\n",
       "\n",
       "    .dataframe thead th {\n",
       "        text-align: right;\n",
       "    }\n",
       "</style>\n",
       "<table border=\"1\" class=\"dataframe\">\n",
       "  <thead>\n",
       "    <tr style=\"text-align: right;\">\n",
       "      <th></th>\n",
       "      <th>Names</th>\n",
       "      <th>Age</th>\n",
       "      <th>City</th>\n",
       "    </tr>\n",
       "  </thead>\n",
       "  <tbody>\n",
       "    <tr>\n",
       "      <th>0</th>\n",
       "      <td>Aravind</td>\n",
       "      <td>NaN</td>\n",
       "      <td>Hyd</td>\n",
       "    </tr>\n",
       "    <tr>\n",
       "      <th>1</th>\n",
       "      <td>Samar</td>\n",
       "      <td>21.0</td>\n",
       "      <td>Blr</td>\n",
       "    </tr>\n",
       "    <tr>\n",
       "      <th>2</th>\n",
       "      <td>None</td>\n",
       "      <td>32.0</td>\n",
       "      <td>Chennai</td>\n",
       "    </tr>\n",
       "    <tr>\n",
       "      <th>3</th>\n",
       "      <td>Siri</td>\n",
       "      <td>43.0</td>\n",
       "      <td>None</td>\n",
       "    </tr>\n",
       "  </tbody>\n",
       "</table>\n",
       "</div>"
      ],
      "text/plain": [
       "     Names   Age     City\n",
       "0  Aravind   NaN      Hyd\n",
       "1    Samar  21.0      Blr\n",
       "2     None  32.0  Chennai\n",
       "3     Siri  43.0     None"
      ]
     },
     "execution_count": 13,
     "metadata": {},
     "output_type": "execute_result"
    }
   ],
   "source": [
    "dict2= {'Names':['Aravind','Samar',None,'Siri'],\n",
    "        'Age':[np.nan,21,32,43],\n",
    "        'City':['Hyd','Blr','Chennai',None]}\n",
    "\n",
    "d1=pd.DataFrame(dict2)\n",
    "d1"
   ]
  },
  {
   "cell_type": "code",
   "execution_count": 16,
   "id": "13606ccf-287e-49ff-881e-77186c02d867",
   "metadata": {},
   "outputs": [
    {
     "data": {
      "text/plain": [
       "Names     object\n",
       "Age      float64\n",
       "City      object\n",
       "dtype: object"
      ]
     },
     "execution_count": 16,
     "metadata": {},
     "output_type": "execute_result"
    }
   ],
   "source": [
    "d1.dtypes"
   ]
  },
  {
   "cell_type": "markdown",
   "id": "81e3184e-0c55-47cd-b257-6114d26320c4",
   "metadata": {},
   "source": [
    "$Method-1$"
   ]
  },
  {
   "cell_type": "code",
   "execution_count": 14,
   "id": "4d898f08-a128-4a06-bba5-1ab7be77b377",
   "metadata": {},
   "outputs": [
    {
     "data": {
      "text/html": [
       "<div>\n",
       "<style scoped>\n",
       "    .dataframe tbody tr th:only-of-type {\n",
       "        vertical-align: middle;\n",
       "    }\n",
       "\n",
       "    .dataframe tbody tr th {\n",
       "        vertical-align: top;\n",
       "    }\n",
       "\n",
       "    .dataframe thead th {\n",
       "        text-align: right;\n",
       "    }\n",
       "</style>\n",
       "<table border=\"1\" class=\"dataframe\">\n",
       "  <thead>\n",
       "    <tr style=\"text-align: right;\">\n",
       "      <th></th>\n",
       "      <th>Names</th>\n",
       "      <th>Age</th>\n",
       "      <th>City</th>\n",
       "    </tr>\n",
       "  </thead>\n",
       "  <tbody>\n",
       "    <tr>\n",
       "      <th>0</th>\n",
       "      <td>False</td>\n",
       "      <td>True</td>\n",
       "      <td>False</td>\n",
       "    </tr>\n",
       "    <tr>\n",
       "      <th>1</th>\n",
       "      <td>False</td>\n",
       "      <td>False</td>\n",
       "      <td>False</td>\n",
       "    </tr>\n",
       "    <tr>\n",
       "      <th>2</th>\n",
       "      <td>True</td>\n",
       "      <td>False</td>\n",
       "      <td>False</td>\n",
       "    </tr>\n",
       "    <tr>\n",
       "      <th>3</th>\n",
       "      <td>False</td>\n",
       "      <td>False</td>\n",
       "      <td>True</td>\n",
       "    </tr>\n",
       "  </tbody>\n",
       "</table>\n",
       "</div>"
      ],
      "text/plain": [
       "   Names    Age   City\n",
       "0  False   True  False\n",
       "1  False  False  False\n",
       "2   True  False  False\n",
       "3  False  False   True"
      ]
     },
     "execution_count": 14,
     "metadata": {},
     "output_type": "execute_result"
    }
   ],
   "source": [
    "d1.isnull()"
   ]
  },
  {
   "cell_type": "code",
   "execution_count": 15,
   "id": "14443492-f93a-4030-96fd-6ac0ff9be8b9",
   "metadata": {},
   "outputs": [
    {
     "data": {
      "text/plain": [
       "Names    1\n",
       "Age      1\n",
       "City     1\n",
       "dtype: int64"
      ]
     },
     "execution_count": 15,
     "metadata": {},
     "output_type": "execute_result"
    }
   ],
   "source": [
    "d1.isnull().sum()"
   ]
  },
  {
   "cell_type": "code",
   "execution_count": 17,
   "id": "4b01fa50-c82f-4c24-9ed6-814aaa43c5f7",
   "metadata": {},
   "outputs": [
    {
     "data": {
      "text/plain": [
       "Names    25.0\n",
       "Age      25.0\n",
       "City     25.0\n",
       "dtype: float64"
      ]
     },
     "execution_count": 17,
     "metadata": {},
     "output_type": "execute_result"
    }
   ],
   "source": [
    "d1.isnull().sum()*100/len(d1)"
   ]
  },
  {
   "cell_type": "markdown",
   "id": "8f3b637e-485e-4782-bc94-0275575ee387",
   "metadata": {},
   "source": [
    "- np.nan means not a number, it is applicable for numerical columns only"
   ]
  },
  {
   "cell_type": "markdown",
   "id": "9732dfae-0d93-4c15-9327-7bf06b9f804e",
   "metadata": {},
   "source": [
    "- Generallly, data has some empty rows\n",
    "\n",
    "- It is a data problem\n",
    "\n",
    "- If you read that kind of data you will see Null\n",
    "\n",
    "- So, we need to understand that it is a data corrupted or really Null values are there"
   ]
  },
  {
   "cell_type": "markdown",
   "id": "3b646a01-abd8-4ba6-92e8-b667f01aa572",
   "metadata": {},
   "source": [
    "**Method-1**\n",
    "\n",
    "**Fill with some random values**\n",
    "\n",
    "**Method name**: Fill na"
   ]
  },
  {
   "cell_type": "code",
   "execution_count": 18,
   "id": "2e2bf785-eeed-4631-82c8-41a361d28f78",
   "metadata": {},
   "outputs": [
    {
     "data": {
      "text/html": [
       "<div>\n",
       "<style scoped>\n",
       "    .dataframe tbody tr th:only-of-type {\n",
       "        vertical-align: middle;\n",
       "    }\n",
       "\n",
       "    .dataframe tbody tr th {\n",
       "        vertical-align: top;\n",
       "    }\n",
       "\n",
       "    .dataframe thead th {\n",
       "        text-align: right;\n",
       "    }\n",
       "</style>\n",
       "<table border=\"1\" class=\"dataframe\">\n",
       "  <thead>\n",
       "    <tr style=\"text-align: right;\">\n",
       "      <th></th>\n",
       "      <th>Names</th>\n",
       "      <th>Age</th>\n",
       "      <th>City</th>\n",
       "    </tr>\n",
       "  </thead>\n",
       "  <tbody>\n",
       "    <tr>\n",
       "      <th>0</th>\n",
       "      <td>Aravind</td>\n",
       "      <td>40.0</td>\n",
       "      <td>Hyd</td>\n",
       "    </tr>\n",
       "    <tr>\n",
       "      <th>1</th>\n",
       "      <td>Samar</td>\n",
       "      <td>21.0</td>\n",
       "      <td>Blr</td>\n",
       "    </tr>\n",
       "    <tr>\n",
       "      <th>2</th>\n",
       "      <td>40</td>\n",
       "      <td>32.0</td>\n",
       "      <td>Chennai</td>\n",
       "    </tr>\n",
       "    <tr>\n",
       "      <th>3</th>\n",
       "      <td>Siri</td>\n",
       "      <td>43.0</td>\n",
       "      <td>40</td>\n",
       "    </tr>\n",
       "  </tbody>\n",
       "</table>\n",
       "</div>"
      ],
      "text/plain": [
       "     Names   Age     City\n",
       "0  Aravind  40.0      Hyd\n",
       "1    Samar  21.0      Blr\n",
       "2       40  32.0  Chennai\n",
       "3     Siri  43.0       40"
      ]
     },
     "execution_count": 18,
     "metadata": {},
     "output_type": "execute_result"
    }
   ],
   "source": [
    "d1.fillna(40)"
   ]
  },
  {
   "cell_type": "markdown",
   "id": "0fa90546-1842-421d-b4f6-d905b3689a88",
   "metadata": {},
   "source": [
    "**Method-2**\n",
    "\n",
    "- we can fill the values with respect to columns also "
   ]
  },
  {
   "cell_type": "code",
   "execution_count": 21,
   "id": "048a3b7b-f8e5-4809-b576-9c6954400198",
   "metadata": {},
   "outputs": [
    {
     "data": {
      "text/plain": [
       "0    40.0\n",
       "1    21.0\n",
       "2    32.0\n",
       "3    43.0\n",
       "Name: Age, dtype: float64"
      ]
     },
     "execution_count": 21,
     "metadata": {},
     "output_type": "execute_result"
    }
   ],
   "source": [
    "d1['Age'].fillna(40)\n",
    "\n",
    "# it is not updated\n",
    "# inplace=False\n",
    "# if we make inplace= True, it will update"
   ]
  },
  {
   "cell_type": "code",
   "execution_count": 25,
   "id": "2058f033-cf88-49a9-80a7-5a07497831cc",
   "metadata": {},
   "outputs": [
    {
     "data": {
      "text/html": [
       "<div>\n",
       "<style scoped>\n",
       "    .dataframe tbody tr th:only-of-type {\n",
       "        vertical-align: middle;\n",
       "    }\n",
       "\n",
       "    .dataframe tbody tr th {\n",
       "        vertical-align: top;\n",
       "    }\n",
       "\n",
       "    .dataframe thead th {\n",
       "        text-align: right;\n",
       "    }\n",
       "</style>\n",
       "<table border=\"1\" class=\"dataframe\">\n",
       "  <thead>\n",
       "    <tr style=\"text-align: right;\">\n",
       "      <th></th>\n",
       "      <th>Names</th>\n",
       "      <th>Age</th>\n",
       "      <th>City</th>\n",
       "    </tr>\n",
       "  </thead>\n",
       "  <tbody>\n",
       "    <tr>\n",
       "      <th>0</th>\n",
       "      <td>Aravind</td>\n",
       "      <td>40.0</td>\n",
       "      <td>Hyd</td>\n",
       "    </tr>\n",
       "    <tr>\n",
       "      <th>1</th>\n",
       "      <td>Samar</td>\n",
       "      <td>21.0</td>\n",
       "      <td>Blr</td>\n",
       "    </tr>\n",
       "    <tr>\n",
       "      <th>2</th>\n",
       "      <td>None</td>\n",
       "      <td>32.0</td>\n",
       "      <td>Chennai</td>\n",
       "    </tr>\n",
       "    <tr>\n",
       "      <th>3</th>\n",
       "      <td>Siri</td>\n",
       "      <td>43.0</td>\n",
       "      <td>None</td>\n",
       "    </tr>\n",
       "  </tbody>\n",
       "</table>\n",
       "</div>"
      ],
      "text/plain": [
       "     Names   Age     City\n",
       "0  Aravind  40.0      Hyd\n",
       "1    Samar  21.0      Blr\n",
       "2     None  32.0  Chennai\n",
       "3     Siri  43.0     None"
      ]
     },
     "execution_count": 25,
     "metadata": {},
     "output_type": "execute_result"
    }
   ],
   "source": [
    "d1['Age'].fillna(40,inplace=True)\n",
    "d1"
   ]
  },
  {
   "cell_type": "code",
   "execution_count": 28,
   "id": "b91afdfa-23de-42b4-8fb6-abcd3d7e833c",
   "metadata": {},
   "outputs": [
    {
     "data": {
      "text/html": [
       "<div>\n",
       "<style scoped>\n",
       "    .dataframe tbody tr th:only-of-type {\n",
       "        vertical-align: middle;\n",
       "    }\n",
       "\n",
       "    .dataframe tbody tr th {\n",
       "        vertical-align: top;\n",
       "    }\n",
       "\n",
       "    .dataframe thead th {\n",
       "        text-align: right;\n",
       "    }\n",
       "</style>\n",
       "<table border=\"1\" class=\"dataframe\">\n",
       "  <thead>\n",
       "    <tr style=\"text-align: right;\">\n",
       "      <th></th>\n",
       "      <th>Names</th>\n",
       "      <th>Age</th>\n",
       "      <th>City</th>\n",
       "    </tr>\n",
       "  </thead>\n",
       "  <tbody>\n",
       "    <tr>\n",
       "      <th>0</th>\n",
       "      <td>Aravind</td>\n",
       "      <td>NaN</td>\n",
       "      <td>Hyd</td>\n",
       "    </tr>\n",
       "    <tr>\n",
       "      <th>1</th>\n",
       "      <td>Samar</td>\n",
       "      <td>21.0</td>\n",
       "      <td>Blr</td>\n",
       "    </tr>\n",
       "    <tr>\n",
       "      <th>2</th>\n",
       "      <td>NaN</td>\n",
       "      <td>32.0</td>\n",
       "      <td>Chennai</td>\n",
       "    </tr>\n",
       "    <tr>\n",
       "      <th>3</th>\n",
       "      <td>Siri</td>\n",
       "      <td>43.0</td>\n",
       "      <td>NaN</td>\n",
       "    </tr>\n",
       "  </tbody>\n",
       "</table>\n",
       "</div>"
      ],
      "text/plain": [
       "     Names   Age     City\n",
       "0  Aravind   NaN      Hyd\n",
       "1    Samar  21.0      Blr\n",
       "2      NaN  32.0  Chennai\n",
       "3     Siri  43.0      NaN"
      ]
     },
     "execution_count": 28,
     "metadata": {},
     "output_type": "execute_result"
    }
   ],
   "source": [
    "dict1= {'Names': ['Aravind','Samar',np.nan,'Siri'],\n",
    "        'Age':[np.nan,21,32,43],\n",
    "        'City':['Hyd','Blr','Chennai',np.nan]}\n",
    "\n",
    "d1=pd.DataFrame(dict1)\n",
    "d1"
   ]
  },
  {
   "cell_type": "markdown",
   "id": "fded165c-b064-46bf-bcc1-ec4b5ea81bc5",
   "metadata": {},
   "source": [
    "**Method-3**\n",
    "\n",
    "- bfill\n",
    "\n",
    "- ffill\n",
    "\n",
    "- pad\n",
    "\n",
    "- backfill"
   ]
  },
  {
   "cell_type": "code",
   "execution_count": 30,
   "id": "bdb184cd-3268-41bf-87ff-2eec2982c54a",
   "metadata": {},
   "outputs": [
    {
     "name": "stderr",
     "output_type": "stream",
     "text": [
      "C:\\Users\\gunda\\AppData\\Local\\Temp\\ipykernel_17640\\2561394389.py:1: FutureWarning: DataFrame.fillna with 'method' is deprecated and will raise in a future version. Use obj.ffill() or obj.bfill() instead.\n",
      "  d1.fillna(method='bfill')\n"
     ]
    },
    {
     "data": {
      "text/html": [
       "<div>\n",
       "<style scoped>\n",
       "    .dataframe tbody tr th:only-of-type {\n",
       "        vertical-align: middle;\n",
       "    }\n",
       "\n",
       "    .dataframe tbody tr th {\n",
       "        vertical-align: top;\n",
       "    }\n",
       "\n",
       "    .dataframe thead th {\n",
       "        text-align: right;\n",
       "    }\n",
       "</style>\n",
       "<table border=\"1\" class=\"dataframe\">\n",
       "  <thead>\n",
       "    <tr style=\"text-align: right;\">\n",
       "      <th></th>\n",
       "      <th>Names</th>\n",
       "      <th>Age</th>\n",
       "      <th>City</th>\n",
       "    </tr>\n",
       "  </thead>\n",
       "  <tbody>\n",
       "    <tr>\n",
       "      <th>0</th>\n",
       "      <td>Aravind</td>\n",
       "      <td>21.0</td>\n",
       "      <td>Hyd</td>\n",
       "    </tr>\n",
       "    <tr>\n",
       "      <th>1</th>\n",
       "      <td>Samar</td>\n",
       "      <td>21.0</td>\n",
       "      <td>Blr</td>\n",
       "    </tr>\n",
       "    <tr>\n",
       "      <th>2</th>\n",
       "      <td>Siri</td>\n",
       "      <td>32.0</td>\n",
       "      <td>Chennai</td>\n",
       "    </tr>\n",
       "    <tr>\n",
       "      <th>3</th>\n",
       "      <td>Siri</td>\n",
       "      <td>43.0</td>\n",
       "      <td>NaN</td>\n",
       "    </tr>\n",
       "  </tbody>\n",
       "</table>\n",
       "</div>"
      ],
      "text/plain": [
       "     Names   Age     City\n",
       "0  Aravind  21.0      Hyd\n",
       "1    Samar  21.0      Blr\n",
       "2     Siri  32.0  Chennai\n",
       "3     Siri  43.0      NaN"
      ]
     },
     "execution_count": 30,
     "metadata": {},
     "output_type": "execute_result"
    }
   ],
   "source": [
    "d1.fillna(method='bfill')\n",
    "# column1: names index 4 is a missing value, it is filled with index 4 value\n",
    "# column2: Age index 1 is missing value it is filled with index 2 value\n",
    "# column3: City Index 4 is missing values, it should be filled with next value, but we dont have next value"
   ]
  },
  {
   "cell_type": "code",
   "execution_count": 31,
   "id": "95558546-6188-47f0-9b10-8af869cac92d",
   "metadata": {},
   "outputs": [
    {
     "name": "stderr",
     "output_type": "stream",
     "text": [
      "C:\\Users\\gunda\\AppData\\Local\\Temp\\ipykernel_17640\\4088926743.py:1: FutureWarning: DataFrame.fillna with 'method' is deprecated and will raise in a future version. Use obj.ffill() or obj.bfill() instead.\n",
      "  d1.fillna(method='ffill')\n"
     ]
    },
    {
     "data": {
      "text/html": [
       "<div>\n",
       "<style scoped>\n",
       "    .dataframe tbody tr th:only-of-type {\n",
       "        vertical-align: middle;\n",
       "    }\n",
       "\n",
       "    .dataframe tbody tr th {\n",
       "        vertical-align: top;\n",
       "    }\n",
       "\n",
       "    .dataframe thead th {\n",
       "        text-align: right;\n",
       "    }\n",
       "</style>\n",
       "<table border=\"1\" class=\"dataframe\">\n",
       "  <thead>\n",
       "    <tr style=\"text-align: right;\">\n",
       "      <th></th>\n",
       "      <th>Names</th>\n",
       "      <th>Age</th>\n",
       "      <th>City</th>\n",
       "    </tr>\n",
       "  </thead>\n",
       "  <tbody>\n",
       "    <tr>\n",
       "      <th>0</th>\n",
       "      <td>Aravind</td>\n",
       "      <td>NaN</td>\n",
       "      <td>Hyd</td>\n",
       "    </tr>\n",
       "    <tr>\n",
       "      <th>1</th>\n",
       "      <td>Samar</td>\n",
       "      <td>21.0</td>\n",
       "      <td>Blr</td>\n",
       "    </tr>\n",
       "    <tr>\n",
       "      <th>2</th>\n",
       "      <td>Samar</td>\n",
       "      <td>32.0</td>\n",
       "      <td>Chennai</td>\n",
       "    </tr>\n",
       "    <tr>\n",
       "      <th>3</th>\n",
       "      <td>Siri</td>\n",
       "      <td>43.0</td>\n",
       "      <td>Chennai</td>\n",
       "    </tr>\n",
       "  </tbody>\n",
       "</table>\n",
       "</div>"
      ],
      "text/plain": [
       "     Names   Age     City\n",
       "0  Aravind   NaN      Hyd\n",
       "1    Samar  21.0      Blr\n",
       "2    Samar  32.0  Chennai\n",
       "3     Siri  43.0  Chennai"
      ]
     },
     "execution_count": 31,
     "metadata": {},
     "output_type": "execute_result"
    }
   ],
   "source": [
    "d1.fillna(method='ffill')"
   ]
  },
  {
   "cell_type": "code",
   "execution_count": 39,
   "id": "ada9303f-1c44-44f3-8479-988a38d909a5",
   "metadata": {},
   "outputs": [
    {
     "name": "stderr",
     "output_type": "stream",
     "text": [
      "C:\\Users\\gunda\\AppData\\Local\\Temp\\ipykernel_17640\\3282249208.py:1: FutureWarning: DataFrame.fillna with 'method' is deprecated and will raise in a future version. Use obj.ffill() or obj.bfill() instead.\n",
      "  d1.fillna(method='pad')\n"
     ]
    },
    {
     "data": {
      "text/html": [
       "<div>\n",
       "<style scoped>\n",
       "    .dataframe tbody tr th:only-of-type {\n",
       "        vertical-align: middle;\n",
       "    }\n",
       "\n",
       "    .dataframe tbody tr th {\n",
       "        vertical-align: top;\n",
       "    }\n",
       "\n",
       "    .dataframe thead th {\n",
       "        text-align: right;\n",
       "    }\n",
       "</style>\n",
       "<table border=\"1\" class=\"dataframe\">\n",
       "  <thead>\n",
       "    <tr style=\"text-align: right;\">\n",
       "      <th></th>\n",
       "      <th>Names</th>\n",
       "      <th>Age</th>\n",
       "      <th>City</th>\n",
       "    </tr>\n",
       "  </thead>\n",
       "  <tbody>\n",
       "    <tr>\n",
       "      <th>0</th>\n",
       "      <td>Aravind</td>\n",
       "      <td>NaN</td>\n",
       "      <td>Hyd</td>\n",
       "    </tr>\n",
       "    <tr>\n",
       "      <th>1</th>\n",
       "      <td>Samar</td>\n",
       "      <td>21.0</td>\n",
       "      <td>Blr</td>\n",
       "    </tr>\n",
       "    <tr>\n",
       "      <th>2</th>\n",
       "      <td>Samar</td>\n",
       "      <td>32.0</td>\n",
       "      <td>Chennai</td>\n",
       "    </tr>\n",
       "    <tr>\n",
       "      <th>3</th>\n",
       "      <td>Siri</td>\n",
       "      <td>43.0</td>\n",
       "      <td>Chennai</td>\n",
       "    </tr>\n",
       "  </tbody>\n",
       "</table>\n",
       "</div>"
      ],
      "text/plain": [
       "     Names   Age     City\n",
       "0  Aravind   NaN      Hyd\n",
       "1    Samar  21.0      Blr\n",
       "2    Samar  32.0  Chennai\n",
       "3     Siri  43.0  Chennai"
      ]
     },
     "execution_count": 39,
     "metadata": {},
     "output_type": "execute_result"
    }
   ],
   "source": [
    "d1.fillna(method='pad')"
   ]
  },
  {
   "cell_type": "code",
   "execution_count": 36,
   "id": "791b7f96-f0db-4001-afbd-72f1c3af0bfb",
   "metadata": {},
   "outputs": [
    {
     "name": "stderr",
     "output_type": "stream",
     "text": [
      "C:\\Users\\gunda\\AppData\\Local\\Temp\\ipykernel_17640\\24379084.py:1: FutureWarning: DataFrame.fillna with 'method' is deprecated and will raise in a future version. Use obj.ffill() or obj.bfill() instead.\n",
      "  d1.fillna(method='backfill',axis=1)\n"
     ]
    },
    {
     "data": {
      "text/html": [
       "<div>\n",
       "<style scoped>\n",
       "    .dataframe tbody tr th:only-of-type {\n",
       "        vertical-align: middle;\n",
       "    }\n",
       "\n",
       "    .dataframe tbody tr th {\n",
       "        vertical-align: top;\n",
       "    }\n",
       "\n",
       "    .dataframe thead th {\n",
       "        text-align: right;\n",
       "    }\n",
       "</style>\n",
       "<table border=\"1\" class=\"dataframe\">\n",
       "  <thead>\n",
       "    <tr style=\"text-align: right;\">\n",
       "      <th></th>\n",
       "      <th>Names</th>\n",
       "      <th>Age</th>\n",
       "      <th>City</th>\n",
       "    </tr>\n",
       "  </thead>\n",
       "  <tbody>\n",
       "    <tr>\n",
       "      <th>0</th>\n",
       "      <td>Aravind</td>\n",
       "      <td>Hyd</td>\n",
       "      <td>Hyd</td>\n",
       "    </tr>\n",
       "    <tr>\n",
       "      <th>1</th>\n",
       "      <td>Samar</td>\n",
       "      <td>21.0</td>\n",
       "      <td>Blr</td>\n",
       "    </tr>\n",
       "    <tr>\n",
       "      <th>2</th>\n",
       "      <td>32.0</td>\n",
       "      <td>32.0</td>\n",
       "      <td>Chennai</td>\n",
       "    </tr>\n",
       "    <tr>\n",
       "      <th>3</th>\n",
       "      <td>Siri</td>\n",
       "      <td>43.0</td>\n",
       "      <td>NaN</td>\n",
       "    </tr>\n",
       "  </tbody>\n",
       "</table>\n",
       "</div>"
      ],
      "text/plain": [
       "     Names   Age     City\n",
       "0  Aravind   Hyd      Hyd\n",
       "1    Samar  21.0      Blr\n",
       "2     32.0  32.0  Chennai\n",
       "3     Siri  43.0      NaN"
      ]
     },
     "execution_count": 36,
     "metadata": {},
     "output_type": "execute_result"
    }
   ],
   "source": [
    "d1.fillna(method='backfill',axis=1)\n",
    "# axis= means columns\n",
    "# NAN values fill with next column values"
   ]
  },
  {
   "cell_type": "markdown",
   "id": "87c5dc38-9766-4475-a56e-21168e20c913",
   "metadata": {},
   "source": [
    "- backfill and bfill fill with next value\n",
    "\n",
    "- pad and ffill fill with previous value\n",
    "\n",
    "- but it will change based on the axis"
   ]
  },
  {
   "cell_type": "markdown",
   "id": "2eda478e-fa16-4fc6-840b-eb40ec30c794",
   "metadata": {},
   "source": [
    "**Method-4**\n",
    "\n",
    "**Mean**\n",
    "\n",
    "   - Numerical values can fill with mean value\n",
    "\n",
    "   - but mean affect by outliers\n",
    "\n",
    "   - if we dont have outliers, it is the best one\n",
    "\n",
    "**Median**\n",
    "\n",
    "   - Numericals values can fill with median value\n",
    "\n",
    "   - but we know median value doesnot affect with outliers\n",
    "\n",
    "   - if outliers are not there then we can go with median\n",
    "\n",
    "**Mode**\n",
    "\n",
    "   - Mode is useful for categorical data"
   ]
  },
  {
   "cell_type": "code",
   "execution_count": 42,
   "id": "f471bd8a-8034-4102-ad21-c75baa3f22a6",
   "metadata": {},
   "outputs": [],
   "source": [
    "dict1= {'Names': ['Aravind','Samar',np.nan,'Siri'],\n",
    "        'Age':[np.nan,21,32,43],\n",
    "        'City':['Hyd','Blr','Chennai',np.nan]}\n",
    "\n",
    "d1=pd.DataFrame(dict1)"
   ]
  },
  {
   "cell_type": "code",
   "execution_count": 43,
   "id": "b89ef469-86df-41a4-8b3a-2321cef07978",
   "metadata": {},
   "outputs": [
    {
     "data": {
      "text/plain": [
       "0    32.0\n",
       "1    21.0\n",
       "2    32.0\n",
       "3    43.0\n",
       "Name: Age, dtype: float64"
      ]
     },
     "execution_count": 43,
     "metadata": {},
     "output_type": "execute_result"
    }
   ],
   "source": [
    "# we already know we can fill with some values based on specific column using fillna\n",
    "# d1.fillna(<random_number>)\n",
    "# d1 represents all the columns\n",
    "age_mean=d1['Age'].mean()\n",
    "d1['Age'].fillna(age_mean)"
   ]
  },
  {
   "cell_type": "code",
   "execution_count": 44,
   "id": "241a4eee-4595-49e9-b5ea-49a13a589659",
   "metadata": {},
   "outputs": [
    {
     "data": {
      "text/plain": [
       "0    32.0\n",
       "1    21.0\n",
       "2    32.0\n",
       "3    43.0\n",
       "Name: Age, dtype: float64"
      ]
     },
     "execution_count": 44,
     "metadata": {},
     "output_type": "execute_result"
    }
   ],
   "source": [
    "age_median=d1['Age'].median()\n",
    "d1['Age'].fillna(age_median)"
   ]
  },
  {
   "cell_type": "code",
   "execution_count": null,
   "id": "95210eaa-1dc0-48c4-9d7d-a0a0aa7e554e",
   "metadata": {},
   "outputs": [],
   "source": [
    "age_median=d1['City'].median()\n",
    "d1['City'].fillna(age_median)"
   ]
  },
  {
   "cell_type": "markdown",
   "id": "255d3c91-2ae1-496d-8da8-ded171b53c0a",
   "metadata": {},
   "source": [
    "- Fill with random value\n",
    "\n",
    "- Fill with\n",
    "\n",
    "   - Mean\n",
    "\n",
    "   - Median\n",
    "\n",
    "   - mode"
   ]
  },
  {
   "cell_type": "markdown",
   "id": "f5ac7047-32b2-4a4d-ba0f-1879dfc64915",
   "metadata": {},
   "source": [
    "**Method-5**\n",
    "\n",
    "**KNN imputer**\n",
    "\n",
    "- KNN: K nearest neighbours\n",
    "\n",
    "- K is a hyper parameter means user can choose\n",
    "\n",
    "- It is distance metric: **Euclidian distance**\n",
    "\n",
    "- KNN imputer will take the mean of the neighbours value\n",
    "\n",
    "- The neighbours value can be provided by using value = k\n",
    "\n",
    "- It is under the sklearn package\n",
    "\n",
    "- Under sklearn, we have imputer method\n",
    "\n",
    "- Under imputer method, we have KNN imputer\n",
    "\n",
    "- Applicable only for numerical data\n",
    "\n",
    "<img id=\"dimg_102\" src=\"data:image/png;base64,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\" class=\"YQ4gaf\" height=\"203\" style=\"object-position:41% 16%\" width=\"248\" alt=\"Distance Measures in Machine Learning ...\" data-csiid=\"25\" data-atf=\"5\">"
   ]
  },
  {
   "cell_type": "code",
   "execution_count": 50,
   "id": "33827142-913b-46ff-a258-b5c875d06a77",
   "metadata": {},
   "outputs": [
    {
     "data": {
      "text/plain": [
       "array([[32.],\n",
       "       [21.],\n",
       "       [32.],\n",
       "       [43.]])"
      ]
     },
     "execution_count": 50,
     "metadata": {},
     "output_type": "execute_result"
    }
   ],
   "source": [
    "from sklearn.impute import KNNImputer\n",
    "KI=KNNImputer()\n",
    "KI.fit_transform(d1[['Age']])"
   ]
  },
  {
   "cell_type": "code",
   "execution_count": null,
   "id": "56877eea-0e26-44a5-a32a-e01543935eab",
   "metadata": {},
   "outputs": [],
   "source": []
  }
 ],
 "metadata": {
  "kernelspec": {
   "display_name": "Python 3 (ipykernel)",
   "language": "python",
   "name": "python3"
  },
  "language_info": {
   "codemirror_mode": {
    "name": "ipython",
    "version": 3
   },
   "file_extension": ".py",
   "mimetype": "text/x-python",
   "name": "python",
   "nbconvert_exporter": "python",
   "pygments_lexer": "ipython3",
   "version": "3.11.7"
  }
 },
 "nbformat": 4,
 "nbformat_minor": 5
}
