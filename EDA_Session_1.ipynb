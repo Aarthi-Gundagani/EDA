{
 "cells": [
  {
   "cell_type": "code",
   "execution_count": null,
   "id": "541e9fbf-79ed-4da8-8602-a75be91ec890",
   "metadata": {},
   "outputs": [],
   "source": [
    "============================= EDA ===========================\n",
    "1) Pandas: Data frame application (how to read, write & modify will run by pandas package)\n",
    "\n",
    "2) Numpy: Numerical python (Mean, median, mode, sin, cos, all math applications)\n",
    "\n",
    "3) matplotlib: It is used for plotting\n",
    "\n",
    "4) Seaborn: used for plot (plotting is different ways of using graphs)\n",
    "\n",
    "5) plotly: used for plot\n",
    "\n",
    "6) Bokhe: used for plot\n",
    "\n",
    "============================= Machine Learning =============================\n",
    "\n",
    "7) sickit-learn :sklearn (important package)\n",
    "\n",
    "============================ Deep learning =================================\n",
    "\n",
    "8) Tensorflow : Google\n",
    "\n",
    "9) Keras: Google\n",
    "\n",
    "10) pytorch: Facebook\n",
    "\n",
    "============================ NLP =======================================\n",
    "\n",
    "11) NLTK: Natural language tool kit\n",
    "\n",
    "12) Scipy : developed by NLP \n",
    "\n",
    "============================== BERT ====================================\n",
    "\n",
    "13) Transformers: Hugging Face (Google)\n",
    "\n",
    "============================ Google Models ===========================\n",
    "\n",
    "14) Specific google packages\n",
    "\n",
    "=========================== Azure ML =================================\n",
    "\n",
    "15) Azure packages\n",
    "\n",
    "========================== GenAI =====================================\n",
    "\n",
    "16) GeminiAI : Google\n",
    "\n",
    "17) ChatGPT: openAI\n",
    "\n",
    "========================= LangChain =================================\n",
    "\n",
    "18) LangChain packages\n",
    "    "
   ]
  },
  {
   "cell_type": "markdown",
   "id": "b0d25c14-0e9f-42cf-9efa-69b47f3f9577",
   "metadata": {},
   "source": [
    "$Step-1:$"
   ]
  },
  {
   "cell_type": "markdown",
   "id": "c51360a3-8edd-41f5-a9a7-c571373a9ec1",
   "metadata": {},
   "source": [
    "**Create a DataFrame using list**"
   ]
  },
  {
   "cell_type": "code",
   "execution_count": null,
   "id": "5156e6b8-c6b4-4ab3-8124-2638257a7d73",
   "metadata": {},
   "outputs": [],
   "source": [
    "- list === dictionary\n",
    "\n",
    "- dictionary === list"
   ]
  },
  {
   "cell_type": "code",
   "execution_count": 2,
   "id": "f61b1cff-7870-4ca7-90a7-3265724fc1f8",
   "metadata": {},
   "outputs": [
    {
     "data": {
      "text/html": [
       "<div>\n",
       "<style scoped>\n",
       "    .dataframe tbody tr th:only-of-type {\n",
       "        vertical-align: middle;\n",
       "    }\n",
       "\n",
       "    .dataframe tbody tr th {\n",
       "        vertical-align: top;\n",
       "    }\n",
       "\n",
       "    .dataframe thead th {\n",
       "        text-align: right;\n",
       "    }\n",
       "</style>\n",
       "<table border=\"1\" class=\"dataframe\">\n",
       "  <thead>\n",
       "    <tr style=\"text-align: right;\">\n",
       "      <th></th>\n",
       "    </tr>\n",
       "  </thead>\n",
       "  <tbody>\n",
       "  </tbody>\n",
       "</table>\n",
       "</div>"
      ],
      "text/plain": [
       "Empty DataFrame\n",
       "Columns: []\n",
       "Index: []"
      ]
     },
     "execution_count": 2,
     "metadata": {},
     "output_type": "execute_result"
    }
   ],
   "source": [
    "import pandas as pd\n",
    "names=['Ayush', 'Avinash', 'Akash']\n",
    "pd.DataFrame # empty DataFrame no rows no columns"
   ]
  },
  {
   "cell_type": "markdown",
   "id": "607956cc-0acd-422f-a98d-8dcd3e140d3b",
   "metadata": {},
   "source": [
    "$Step-2:$"
   ]
  },
  {
   "cell_type": "code",
   "execution_count": 3,
   "id": "7b3f9b85-3dff-480d-a9b9-63f4f968b4d0",
   "metadata": {},
   "outputs": [
    {
     "data": {
      "text/html": [
       "<div>\n",
       "<style scoped>\n",
       "    .dataframe tbody tr th:only-of-type {\n",
       "        vertical-align: middle;\n",
       "    }\n",
       "\n",
       "    .dataframe tbody tr th {\n",
       "        vertical-align: top;\n",
       "    }\n",
       "\n",
       "    .dataframe thead th {\n",
       "        text-align: right;\n",
       "    }\n",
       "</style>\n",
       "<table border=\"1\" class=\"dataframe\">\n",
       "  <thead>\n",
       "    <tr style=\"text-align: right;\">\n",
       "      <th></th>\n",
       "      <th>0</th>\n",
       "    </tr>\n",
       "  </thead>\n",
       "  <tbody>\n",
       "    <tr>\n",
       "      <th>0</th>\n",
       "      <td>Ayush</td>\n",
       "    </tr>\n",
       "    <tr>\n",
       "      <th>1</th>\n",
       "      <td>Avinash</td>\n",
       "    </tr>\n",
       "    <tr>\n",
       "      <th>2</th>\n",
       "      <td>Akash</td>\n",
       "    </tr>\n",
       "  </tbody>\n",
       "</table>\n",
       "</div>"
      ],
      "text/plain": [
       "         0\n",
       "0    Ayush\n",
       "1  Avinash\n",
       "2    Akash"
      ]
     },
     "execution_count": 3,
     "metadata": {},
     "output_type": "execute_result"
    }
   ],
   "source": [
    "names=['Ayush','Avinash','Akash']\n",
    "pd.DataFrame(names)"
   ]
  },
  {
   "cell_type": "code",
   "execution_count": 8,
   "id": "a93dce23-3d35-44c6-9b19-48edb9c6ce88",
   "metadata": {},
   "outputs": [
    {
     "data": {
      "text/html": [
       "<div>\n",
       "<style scoped>\n",
       "    .dataframe tbody tr th:only-of-type {\n",
       "        vertical-align: middle;\n",
       "    }\n",
       "\n",
       "    .dataframe tbody tr th {\n",
       "        vertical-align: top;\n",
       "    }\n",
       "\n",
       "    .dataframe thead th {\n",
       "        text-align: right;\n",
       "    }\n",
       "</style>\n",
       "<table border=\"1\" class=\"dataframe\">\n",
       "  <thead>\n",
       "    <tr style=\"text-align: right;\">\n",
       "      <th></th>\n",
       "      <th>0</th>\n",
       "      <th>1</th>\n",
       "    </tr>\n",
       "  </thead>\n",
       "  <tbody>\n",
       "    <tr>\n",
       "      <th>0</th>\n",
       "      <td>Ayush</td>\n",
       "      <td>20</td>\n",
       "    </tr>\n",
       "    <tr>\n",
       "      <th>1</th>\n",
       "      <td>Avinash</td>\n",
       "      <td>25</td>\n",
       "    </tr>\n",
       "    <tr>\n",
       "      <th>2</th>\n",
       "      <td>Akash</td>\n",
       "      <td>30</td>\n",
       "    </tr>\n",
       "  </tbody>\n",
       "</table>\n",
       "</div>"
      ],
      "text/plain": [
       "         0   1\n",
       "0    Ayush  20\n",
       "1  Avinash  25\n",
       "2    Akash  30"
      ]
     },
     "execution_count": 8,
     "metadata": {},
     "output_type": "execute_result"
    }
   ],
   "source": [
    "names=['Ayush','Avinash','Akash']\n",
    "age=[20,25,30]\n",
    "pd.DataFrame(zip(names,age))\n",
    "# what is the first positional argument: Data\n",
    "# what is the second positional argument: Index\n",
    "# whenever we have multiple list, we have to use \"zip\""
   ]
  },
  {
   "cell_type": "code",
   "execution_count": 10,
   "id": "66499520-0644-4fea-927e-13bc9608cb3b",
   "metadata": {},
   "outputs": [
    {
     "data": {
      "text/html": [
       "<div>\n",
       "<style scoped>\n",
       "    .dataframe tbody tr th:only-of-type {\n",
       "        vertical-align: middle;\n",
       "    }\n",
       "\n",
       "    .dataframe tbody tr th {\n",
       "        vertical-align: top;\n",
       "    }\n",
       "\n",
       "    .dataframe thead th {\n",
       "        text-align: right;\n",
       "    }\n",
       "</style>\n",
       "<table border=\"1\" class=\"dataframe\">\n",
       "  <thead>\n",
       "    <tr style=\"text-align: right;\">\n",
       "      <th></th>\n",
       "      <th>0</th>\n",
       "      <th>1</th>\n",
       "      <th>2</th>\n",
       "    </tr>\n",
       "  </thead>\n",
       "  <tbody>\n",
       "    <tr>\n",
       "      <th>hyd</th>\n",
       "      <td>Ayush</td>\n",
       "      <td>20</td>\n",
       "      <td>20000</td>\n",
       "    </tr>\n",
       "    <tr>\n",
       "      <th>blr</th>\n",
       "      <td>Avinash</td>\n",
       "      <td>25</td>\n",
       "      <td>25000</td>\n",
       "    </tr>\n",
       "    <tr>\n",
       "      <th>chennai</th>\n",
       "      <td>Akash</td>\n",
       "      <td>30</td>\n",
       "      <td>30000</td>\n",
       "    </tr>\n",
       "  </tbody>\n",
       "</table>\n",
       "</div>"
      ],
      "text/plain": [
       "               0   1      2\n",
       "hyd        Ayush  20  20000\n",
       "blr      Avinash  25  25000\n",
       "chennai    Akash  30  30000"
      ]
     },
     "execution_count": 10,
     "metadata": {},
     "output_type": "execute_result"
    }
   ],
   "source": [
    "names=['Ayush','Avinash','Akash']\n",
    "age=[20,25,30]\n",
    "salary=[20000,25000,30000]\n",
    "city=['hyd','blr','chennai']\n",
    "pd.DataFrame(zip(names,age,salary),city)"
   ]
  },
  {
   "cell_type": "markdown",
   "id": "8aa97a56-17d7-42b8-8a2e-7647bf8f6ef1",
   "metadata": {},
   "source": [
    "$Step-3:$\n",
    "\n",
    "**Provide the column names**"
   ]
  },
  {
   "cell_type": "code",
   "execution_count": 14,
   "id": "b2bde20d-f97b-457e-b632-51fbfb267933",
   "metadata": {},
   "outputs": [
    {
     "data": {
      "text/html": [
       "<div>\n",
       "<style scoped>\n",
       "    .dataframe tbody tr th:only-of-type {\n",
       "        vertical-align: middle;\n",
       "    }\n",
       "\n",
       "    .dataframe tbody tr th {\n",
       "        vertical-align: top;\n",
       "    }\n",
       "\n",
       "    .dataframe thead th {\n",
       "        text-align: right;\n",
       "    }\n",
       "</style>\n",
       "<table border=\"1\" class=\"dataframe\">\n",
       "  <thead>\n",
       "    <tr style=\"text-align: right;\">\n",
       "      <th></th>\n",
       "      <th>Names</th>\n",
       "      <th>Age</th>\n",
       "    </tr>\n",
       "  </thead>\n",
       "  <tbody>\n",
       "    <tr>\n",
       "      <th>0</th>\n",
       "      <td>Ayush</td>\n",
       "      <td>20</td>\n",
       "    </tr>\n",
       "    <tr>\n",
       "      <th>1</th>\n",
       "      <td>Avinash</td>\n",
       "      <td>25</td>\n",
       "    </tr>\n",
       "    <tr>\n",
       "      <th>2</th>\n",
       "      <td>Akash</td>\n",
       "      <td>30</td>\n",
       "    </tr>\n",
       "  </tbody>\n",
       "</table>\n",
       "</div>"
      ],
      "text/plain": [
       "     Names  Age\n",
       "0    Ayush   20\n",
       "1  Avinash   25\n",
       "2    Akash   30"
      ]
     },
     "execution_count": 14,
     "metadata": {},
     "output_type": "execute_result"
    }
   ],
   "source": [
    "names=['Ayush','Avinash','Akash']\n",
    "age=[20,25,30]\n",
    "city=['hyd','blr','chennai']\n",
    "pd.DataFrame(zip(names,age),\n",
    "             columns=['Names','Age'])"
   ]
  },
  {
   "cell_type": "code",
   "execution_count": 19,
   "id": "5cd264b2-8854-4a45-9f6c-d2cc58e38f0c",
   "metadata": {},
   "outputs": [
    {
     "data": {
      "text/html": [
       "<div>\n",
       "<style scoped>\n",
       "    .dataframe tbody tr th:only-of-type {\n",
       "        vertical-align: middle;\n",
       "    }\n",
       "\n",
       "    .dataframe tbody tr th {\n",
       "        vertical-align: top;\n",
       "    }\n",
       "\n",
       "    .dataframe thead th {\n",
       "        text-align: right;\n",
       "    }\n",
       "</style>\n",
       "<table border=\"1\" class=\"dataframe\">\n",
       "  <thead>\n",
       "    <tr style=\"text-align: right;\">\n",
       "      <th></th>\n",
       "      <th>Names</th>\n",
       "      <th>Age</th>\n",
       "      <th>Salary</th>\n",
       "      <th>City</th>\n",
       "    </tr>\n",
       "  </thead>\n",
       "  <tbody>\n",
       "    <tr>\n",
       "      <th>0</th>\n",
       "      <td>Ayush</td>\n",
       "      <td>20</td>\n",
       "      <td>20000</td>\n",
       "      <td>Hyderabad</td>\n",
       "    </tr>\n",
       "    <tr>\n",
       "      <th>1</th>\n",
       "      <td>Avinash</td>\n",
       "      <td>25</td>\n",
       "      <td>30000</td>\n",
       "      <td>Banglore</td>\n",
       "    </tr>\n",
       "    <tr>\n",
       "      <th>2</th>\n",
       "      <td>Akash</td>\n",
       "      <td>30</td>\n",
       "      <td>35000</td>\n",
       "      <td>chennai</td>\n",
       "    </tr>\n",
       "  </tbody>\n",
       "</table>\n",
       "</div>"
      ],
      "text/plain": [
       "     Names  Age  Salary       City\n",
       "0    Ayush   20   20000  Hyderabad\n",
       "1  Avinash   25   30000   Banglore\n",
       "2    Akash   30   35000    chennai"
      ]
     },
     "execution_count": 19,
     "metadata": {},
     "output_type": "execute_result"
    }
   ],
   "source": [
    "names=['Ayush','Avinash','Akash']\n",
    "age=[20,25,30]\n",
    "city=['Hyderabad','Banglore','chennai']\n",
    "salary=[20000,30000,35000]\n",
    "pd.DataFrame(zip(names,age,salary,city),\n",
    "             columns=['Names','Age','Salary','City'])"
   ]
  },
  {
   "cell_type": "code",
   "execution_count": 22,
   "id": "75b2bada-9eec-45c8-bea8-ad3bebd76cd7",
   "metadata": {},
   "outputs": [
    {
     "data": {
      "text/html": [
       "<div>\n",
       "<style scoped>\n",
       "    .dataframe tbody tr th:only-of-type {\n",
       "        vertical-align: middle;\n",
       "    }\n",
       "\n",
       "    .dataframe tbody tr th {\n",
       "        vertical-align: top;\n",
       "    }\n",
       "\n",
       "    .dataframe thead th {\n",
       "        text-align: right;\n",
       "    }\n",
       "</style>\n",
       "<table border=\"1\" class=\"dataframe\">\n",
       "  <thead>\n",
       "    <tr style=\"text-align: right;\">\n",
       "      <th></th>\n",
       "      <th>Names</th>\n",
       "      <th>Age</th>\n",
       "      <th>Salary</th>\n",
       "      <th>City</th>\n",
       "    </tr>\n",
       "  </thead>\n",
       "  <tbody>\n",
       "    <tr>\n",
       "      <th>0</th>\n",
       "      <td>Ayush</td>\n",
       "      <td>20</td>\n",
       "      <td>20000</td>\n",
       "      <td>Hyderabad</td>\n",
       "    </tr>\n",
       "    <tr>\n",
       "      <th>1</th>\n",
       "      <td>Avinash</td>\n",
       "      <td>25</td>\n",
       "      <td>30000</td>\n",
       "      <td>Banglore</td>\n",
       "    </tr>\n",
       "    <tr>\n",
       "      <th>2</th>\n",
       "      <td>Akash</td>\n",
       "      <td>30</td>\n",
       "      <td>35000</td>\n",
       "      <td>chennai</td>\n",
       "    </tr>\n",
       "  </tbody>\n",
       "</table>\n",
       "</div>"
      ],
      "text/plain": [
       "     Names  Age  Salary       City\n",
       "0    Ayush   20   20000  Hyderabad\n",
       "1  Avinash   25   30000   Banglore\n",
       "2    Akash   30   35000    chennai"
      ]
     },
     "execution_count": 22,
     "metadata": {},
     "output_type": "execute_result"
    }
   ],
   "source": [
    "names=['Ayush','Avinash','Akash']\n",
    "age=[20,25,30]\n",
    "city=['Hyderabad','Banglore','chennai']\n",
    "salary=[20000,30000,35000]\n",
    "\n",
    "data=zip(names,age,salary,city)\n",
    "cols=['Names','Age','Salary','City']\n",
    "pd.DataFrame(data,columns=cols)"
   ]
  },
  {
   "cell_type": "code",
   "execution_count": 24,
   "id": "9e5a190e-424b-4756-a2b8-f4c9c0bfabdc",
   "metadata": {},
   "outputs": [],
   "source": [
    "names=['Ayush','Avinash','Akash']\n",
    "age=[20,25,30]\n",
    "city=['Hyderabad','Banglore','chennai']\n",
    "salary=[20000,30000,35000]\n",
    "\n",
    "data=zip(names,age,salary,city)\n",
    "cols=['Names','Age','Salary','City']\n",
    "df=pd.DataFrame(data,columns=cols)"
   ]
  },
  {
   "cell_type": "code",
   "execution_count": 25,
   "id": "f0188a8d-f27d-4dfe-8a44-9e9301762942",
   "metadata": {},
   "outputs": [
    {
     "data": {
      "text/plain": [
       "pandas.core.frame.DataFrame"
      ]
     },
     "execution_count": 25,
     "metadata": {},
     "output_type": "execute_result"
    }
   ],
   "source": [
    "type(df)"
   ]
  },
  {
   "cell_type": "markdown",
   "id": "ff2242c4-6cfd-44ee-b5ff-7db9a80c7742",
   "metadata": {},
   "source": [
    "$Step-4:$\n",
    "\n",
    "**Add New Column**"
   ]
  },
  {
   "cell_type": "markdown",
   "id": "e7b33754-3f6a-4ecb-b4a5-505166895d43",
   "metadata": {},
   "source": [
    "- if you want to add new column\n",
    "\n",
    "- first, you need to check the number of rows in already existing data\n",
    "\n",
    "- For example, above dataframe has 3 rows\n",
    "\n",
    "- you need to create a new list with 3 rows\n",
    "\n",
    "- that list equate to the dataframe"
   ]
  },
  {
   "cell_type": "code",
   "execution_count": 27,
   "id": "04c49ca4-7549-4b52-a026-31b11eccfc86",
   "metadata": {},
   "outputs": [
    {
     "data": {
      "text/html": [
       "<div>\n",
       "<style scoped>\n",
       "    .dataframe tbody tr th:only-of-type {\n",
       "        vertical-align: middle;\n",
       "    }\n",
       "\n",
       "    .dataframe tbody tr th {\n",
       "        vertical-align: top;\n",
       "    }\n",
       "\n",
       "    .dataframe thead th {\n",
       "        text-align: right;\n",
       "    }\n",
       "</style>\n",
       "<table border=\"1\" class=\"dataframe\">\n",
       "  <thead>\n",
       "    <tr style=\"text-align: right;\">\n",
       "      <th></th>\n",
       "      <th>Names</th>\n",
       "      <th>Age</th>\n",
       "      <th>Salary</th>\n",
       "      <th>City</th>\n",
       "      <th>Job</th>\n",
       "    </tr>\n",
       "  </thead>\n",
       "  <tbody>\n",
       "    <tr>\n",
       "      <th>0</th>\n",
       "      <td>Ayush</td>\n",
       "      <td>20</td>\n",
       "      <td>20000</td>\n",
       "      <td>Hyderabad</td>\n",
       "      <td>DS</td>\n",
       "    </tr>\n",
       "    <tr>\n",
       "      <th>1</th>\n",
       "      <td>Avinash</td>\n",
       "      <td>25</td>\n",
       "      <td>30000</td>\n",
       "      <td>Banglore</td>\n",
       "      <td>DE</td>\n",
       "    </tr>\n",
       "    <tr>\n",
       "      <th>2</th>\n",
       "      <td>Akash</td>\n",
       "      <td>30</td>\n",
       "      <td>35000</td>\n",
       "      <td>chennai</td>\n",
       "      <td>CS</td>\n",
       "    </tr>\n",
       "  </tbody>\n",
       "</table>\n",
       "</div>"
      ],
      "text/plain": [
       "     Names  Age  Salary       City Job\n",
       "0    Ayush   20   20000  Hyderabad  DS\n",
       "1  Avinash   25   30000   Banglore  DE\n",
       "2    Akash   30   35000    chennai  CS"
      ]
     },
     "execution_count": 27,
     "metadata": {},
     "output_type": "execute_result"
    }
   ],
   "source": [
    "job=['DS','DE','CS']\n",
    "df['Job']=job\n",
    "df"
   ]
  },
  {
   "cell_type": "code",
   "execution_count": 28,
   "id": "24570a91-27ef-42e1-a115-9098990df80a",
   "metadata": {},
   "outputs": [
    {
     "data": {
      "text/html": [
       "<div>\n",
       "<style scoped>\n",
       "    .dataframe tbody tr th:only-of-type {\n",
       "        vertical-align: middle;\n",
       "    }\n",
       "\n",
       "    .dataframe tbody tr th {\n",
       "        vertical-align: top;\n",
       "    }\n",
       "\n",
       "    .dataframe thead th {\n",
       "        text-align: right;\n",
       "    }\n",
       "</style>\n",
       "<table border=\"1\" class=\"dataframe\">\n",
       "  <thead>\n",
       "    <tr style=\"text-align: right;\">\n",
       "      <th></th>\n",
       "      <th>Names</th>\n",
       "      <th>Age</th>\n",
       "      <th>Salary</th>\n",
       "      <th>City</th>\n",
       "      <th>Job</th>\n",
       "      <th>Gender</th>\n",
       "    </tr>\n",
       "  </thead>\n",
       "  <tbody>\n",
       "    <tr>\n",
       "      <th>0</th>\n",
       "      <td>Ayush</td>\n",
       "      <td>20</td>\n",
       "      <td>20000</td>\n",
       "      <td>Hyderabad</td>\n",
       "      <td>DS</td>\n",
       "      <td>Male</td>\n",
       "    </tr>\n",
       "    <tr>\n",
       "      <th>1</th>\n",
       "      <td>Avinash</td>\n",
       "      <td>25</td>\n",
       "      <td>30000</td>\n",
       "      <td>Banglore</td>\n",
       "      <td>DE</td>\n",
       "      <td>Male</td>\n",
       "    </tr>\n",
       "    <tr>\n",
       "      <th>2</th>\n",
       "      <td>Akash</td>\n",
       "      <td>30</td>\n",
       "      <td>35000</td>\n",
       "      <td>chennai</td>\n",
       "      <td>CS</td>\n",
       "      <td>Male</td>\n",
       "    </tr>\n",
       "  </tbody>\n",
       "</table>\n",
       "</div>"
      ],
      "text/plain": [
       "     Names  Age  Salary       City Job Gender\n",
       "0    Ayush   20   20000  Hyderabad  DS   Male\n",
       "1  Avinash   25   30000   Banglore  DE   Male\n",
       "2    Akash   30   35000    chennai  CS   Male"
      ]
     },
     "execution_count": 28,
     "metadata": {},
     "output_type": "execute_result"
    }
   ],
   "source": [
    "gender= ['Male','Male','Male']\n",
    "df['Gender']=gender\n",
    "df"
   ]
  },
  {
   "cell_type": "markdown",
   "id": "675dde8f-339e-4ea4-841b-91d122b8dcf6",
   "metadata": {},
   "source": [
    "$Step-5$\n",
    "\n",
    "**Update already existed Column**\n",
    "\n",
    "- Create new column and update new column, both are same way"
   ]
  },
  {
   "cell_type": "code",
   "execution_count": 30,
   "id": "23bbbb4b-962e-4bf8-91db-80614f2f1c39",
   "metadata": {},
   "outputs": [
    {
     "data": {
      "text/html": [
       "<div>\n",
       "<style scoped>\n",
       "    .dataframe tbody tr th:only-of-type {\n",
       "        vertical-align: middle;\n",
       "    }\n",
       "\n",
       "    .dataframe tbody tr th {\n",
       "        vertical-align: top;\n",
       "    }\n",
       "\n",
       "    .dataframe thead th {\n",
       "        text-align: right;\n",
       "    }\n",
       "</style>\n",
       "<table border=\"1\" class=\"dataframe\">\n",
       "  <thead>\n",
       "    <tr style=\"text-align: right;\">\n",
       "      <th></th>\n",
       "      <th>Names</th>\n",
       "      <th>Age</th>\n",
       "      <th>Salary</th>\n",
       "      <th>City</th>\n",
       "      <th>Job</th>\n",
       "      <th>Gender</th>\n",
       "    </tr>\n",
       "  </thead>\n",
       "  <tbody>\n",
       "    <tr>\n",
       "      <th>0</th>\n",
       "      <td>Ayush</td>\n",
       "      <td>35</td>\n",
       "      <td>20000</td>\n",
       "      <td>Hyderabad</td>\n",
       "      <td>DS</td>\n",
       "      <td>Male</td>\n",
       "    </tr>\n",
       "    <tr>\n",
       "      <th>1</th>\n",
       "      <td>Avinash</td>\n",
       "      <td>40</td>\n",
       "      <td>30000</td>\n",
       "      <td>Banglore</td>\n",
       "      <td>DE</td>\n",
       "      <td>Male</td>\n",
       "    </tr>\n",
       "    <tr>\n",
       "      <th>2</th>\n",
       "      <td>Akash</td>\n",
       "      <td>45</td>\n",
       "      <td>35000</td>\n",
       "      <td>chennai</td>\n",
       "      <td>CS</td>\n",
       "      <td>Male</td>\n",
       "    </tr>\n",
       "  </tbody>\n",
       "</table>\n",
       "</div>"
      ],
      "text/plain": [
       "     Names  Age  Salary       City Job Gender\n",
       "0    Ayush   35   20000  Hyderabad  DS   Male\n",
       "1  Avinash   40   30000   Banglore  DE   Male\n",
       "2    Akash   45   35000    chennai  CS   Male"
      ]
     },
     "execution_count": 30,
     "metadata": {},
     "output_type": "execute_result"
    }
   ],
   "source": [
    "df['Age']=[35,40,45]\n",
    "df\n",
    "# update already existed column\n",
    "# how many rows are there,that many values we have to give"
   ]
  },
  {
   "cell_type": "markdown",
   "id": "99aae14b-bb03-4f82-9999-5c4565bb9843",
   "metadata": {},
   "source": [
    "$Step-6$:\n",
    "\n",
    "**How to change the Index**"
   ]
  },
  {
   "cell_type": "code",
   "execution_count": 31,
   "id": "a2a22e8e-8695-4c71-82f2-a41ffa145d2d",
   "metadata": {},
   "outputs": [
    {
     "data": {
      "text/html": [
       "<div>\n",
       "<style scoped>\n",
       "    .dataframe tbody tr th:only-of-type {\n",
       "        vertical-align: middle;\n",
       "    }\n",
       "\n",
       "    .dataframe tbody tr th {\n",
       "        vertical-align: top;\n",
       "    }\n",
       "\n",
       "    .dataframe thead th {\n",
       "        text-align: right;\n",
       "    }\n",
       "</style>\n",
       "<table border=\"1\" class=\"dataframe\">\n",
       "  <thead>\n",
       "    <tr style=\"text-align: right;\">\n",
       "      <th></th>\n",
       "      <th>Names</th>\n",
       "      <th>Age</th>\n",
       "      <th>Salary</th>\n",
       "      <th>City</th>\n",
       "      <th>Job</th>\n",
       "      <th>Gender</th>\n",
       "    </tr>\n",
       "  </thead>\n",
       "  <tbody>\n",
       "    <tr>\n",
       "      <th>0</th>\n",
       "      <td>Ayush</td>\n",
       "      <td>35</td>\n",
       "      <td>20000</td>\n",
       "      <td>Hyderabad</td>\n",
       "      <td>DS</td>\n",
       "      <td>Male</td>\n",
       "    </tr>\n",
       "    <tr>\n",
       "      <th>1</th>\n",
       "      <td>Avinash</td>\n",
       "      <td>40</td>\n",
       "      <td>30000</td>\n",
       "      <td>Banglore</td>\n",
       "      <td>DE</td>\n",
       "      <td>Male</td>\n",
       "    </tr>\n",
       "    <tr>\n",
       "      <th>2</th>\n",
       "      <td>Akash</td>\n",
       "      <td>45</td>\n",
       "      <td>35000</td>\n",
       "      <td>chennai</td>\n",
       "      <td>CS</td>\n",
       "      <td>Male</td>\n",
       "    </tr>\n",
       "  </tbody>\n",
       "</table>\n",
       "</div>"
      ],
      "text/plain": [
       "     Names  Age  Salary       City Job Gender\n",
       "0    Ayush   35   20000  Hyderabad  DS   Male\n",
       "1  Avinash   40   30000   Banglore  DE   Male\n",
       "2    Akash   45   35000    chennai  CS   Male"
      ]
     },
     "execution_count": 31,
     "metadata": {},
     "output_type": "execute_result"
    }
   ],
   "source": [
    "df"
   ]
  },
  {
   "cell_type": "code",
   "execution_count": 51,
   "id": "9ff5fdd4-e4dd-414a-b299-7f0f5ae10925",
   "metadata": {},
   "outputs": [
    {
     "data": {
      "text/html": [
       "<div>\n",
       "<style scoped>\n",
       "    .dataframe tbody tr th:only-of-type {\n",
       "        vertical-align: middle;\n",
       "    }\n",
       "\n",
       "    .dataframe tbody tr th {\n",
       "        vertical-align: top;\n",
       "    }\n",
       "\n",
       "    .dataframe thead th {\n",
       "        text-align: right;\n",
       "    }\n",
       "</style>\n",
       "<table border=\"1\" class=\"dataframe\">\n",
       "  <thead>\n",
       "    <tr style=\"text-align: right;\">\n",
       "      <th></th>\n",
       "      <th>Names</th>\n",
       "      <th>Age</th>\n",
       "      <th>City</th>\n",
       "    </tr>\n",
       "  </thead>\n",
       "  <tbody>\n",
       "    <tr>\n",
       "      <th>A</th>\n",
       "      <td>Ayush</td>\n",
       "      <td>20</td>\n",
       "      <td>Hyderabad</td>\n",
       "    </tr>\n",
       "    <tr>\n",
       "      <th>B</th>\n",
       "      <td>Avinash</td>\n",
       "      <td>25</td>\n",
       "      <td>Banglore</td>\n",
       "    </tr>\n",
       "    <tr>\n",
       "      <th>C</th>\n",
       "      <td>Akash</td>\n",
       "      <td>30</td>\n",
       "      <td>chennai</td>\n",
       "    </tr>\n",
       "    <tr>\n",
       "      <th>D</th>\n",
       "      <td>Anvi</td>\n",
       "      <td>35</td>\n",
       "      <td>Mumbai</td>\n",
       "    </tr>\n",
       "  </tbody>\n",
       "</table>\n",
       "</div>"
      ],
      "text/plain": [
       "     Names  Age       City\n",
       "A    Ayush   20  Hyderabad\n",
       "B  Avinash   25   Banglore\n",
       "C    Akash   30    chennai\n",
       "D     Anvi   35     Mumbai"
      ]
     },
     "execution_count": 51,
     "metadata": {},
     "output_type": "execute_result"
    }
   ],
   "source": [
    "import pandas as pd\n",
    "names=['Ayush','Avinash','Akash','Anvi']\n",
    "age=[20,25,30,35]\n",
    "city=['Hyderabad','Banglore','chennai','Mumbai']\n",
    "\n",
    "data=zip(names,age,city)\n",
    "cols=['Names','Age','City']\n",
    "idx=['A','B','C','D']\n",
    "\n",
    "df=pd.DataFrame(data,\n",
    "             index=idx,\n",
    "             columns=cols)\n",
    "df"
   ]
  },
  {
   "cell_type": "markdown",
   "id": "9a5de753-0585-4528-87d5-46d67061ce0f",
   "metadata": {},
   "source": [
    "**Note**\n",
    "\n",
    "- Number of list equals to  **Number of columns**\n",
    "\n",
    "- Number of values inside list equals to **Number of rows**\n",
    "\n",
    "- When you create the data all the lists will be in the same length"
   ]
  },
  {
   "cell_type": "markdown",
   "id": "d2ec091d-c075-4097-8370-c82ec4a0b67b",
   "metadata": {},
   "source": [
    "$Step-7$\n",
    "\n",
    "**Shape**\n",
    "\n",
    "- Number of rows\n",
    "\n",
    "- Number of columns"
   ]
  },
  {
   "cell_type": "code",
   "execution_count": 41,
   "id": "3232fbec-4b68-44e3-8f7a-e0db4786c365",
   "metadata": {},
   "outputs": [
    {
     "name": "stdout",
     "output_type": "stream",
     "text": [
      "the number of rows are: 4\n",
      "the number of columns are: 3\n"
     ]
    }
   ],
   "source": [
    "df.shape\n",
    "# matrix format\n",
    "# 4 rows and 3 columns\n",
    "print(\"the number of rows are:\", df.shape[0])\n",
    "print(\"the number of columns are:\", df.shape[1])"
   ]
  },
  {
   "cell_type": "markdown",
   "id": "1ab1d8f8-f9e1-4c5a-a785-504ccc31f8b9",
   "metadata": {},
   "source": [
    "$Step-8$\n",
    "\n",
    "**How to Drop the column**\n",
    "\n",
    "- In order to drop the column, we required 3 arguments\n",
    "\n",
    "- Column name\n",
    "\n",
    "   - The column name we need to mention\n",
    " \n",
    "- axis:\n",
    "  \n",
    "   - axis = 0 **represents rows**\n",
    "     \n",
    "   - axis = 1 **represents columns**\n",
    " \n",
    "- Inplace:\n",
    "\n",
    "   - we are dropping the column means we are modifying the data frame\n",
    " \n",
    "   - so this modifications, we want to save in same variable or different variable\n",
    " \n",
    "   - If you want to keep in the same variable, then **inplace = True**\n",
    "     "
   ]
  },
  {
   "cell_type": "code",
   "execution_count": 52,
   "id": "df1e100c-7bab-427d-a61a-8ae32fe9198e",
   "metadata": {},
   "outputs": [],
   "source": [
    "df.drop('City',\n",
    "        axis=1,\n",
    "        inplace=True)"
   ]
  },
  {
   "cell_type": "code",
   "execution_count": 53,
   "id": "1674e784-dd28-4866-a37d-bca921fb91ec",
   "metadata": {},
   "outputs": [
    {
     "data": {
      "text/html": [
       "<div>\n",
       "<style scoped>\n",
       "    .dataframe tbody tr th:only-of-type {\n",
       "        vertical-align: middle;\n",
       "    }\n",
       "\n",
       "    .dataframe tbody tr th {\n",
       "        vertical-align: top;\n",
       "    }\n",
       "\n",
       "    .dataframe thead th {\n",
       "        text-align: right;\n",
       "    }\n",
       "</style>\n",
       "<table border=\"1\" class=\"dataframe\">\n",
       "  <thead>\n",
       "    <tr style=\"text-align: right;\">\n",
       "      <th></th>\n",
       "      <th>Names</th>\n",
       "      <th>Age</th>\n",
       "    </tr>\n",
       "  </thead>\n",
       "  <tbody>\n",
       "    <tr>\n",
       "      <th>A</th>\n",
       "      <td>Ayush</td>\n",
       "      <td>20</td>\n",
       "    </tr>\n",
       "    <tr>\n",
       "      <th>B</th>\n",
       "      <td>Avinash</td>\n",
       "      <td>25</td>\n",
       "    </tr>\n",
       "    <tr>\n",
       "      <th>C</th>\n",
       "      <td>Akash</td>\n",
       "      <td>30</td>\n",
       "    </tr>\n",
       "    <tr>\n",
       "      <th>D</th>\n",
       "      <td>Anvi</td>\n",
       "      <td>35</td>\n",
       "    </tr>\n",
       "  </tbody>\n",
       "</table>\n",
       "</div>"
      ],
      "text/plain": [
       "     Names  Age\n",
       "A    Ayush   20\n",
       "B  Avinash   25\n",
       "C    Akash   30\n",
       "D     Anvi   35"
      ]
     },
     "execution_count": 53,
     "metadata": {},
     "output_type": "execute_result"
    }
   ],
   "source": [
    "df"
   ]
  },
  {
   "cell_type": "code",
   "execution_count": 54,
   "id": "84b7cee6-15f9-494f-a019-f57b4cce3891",
   "metadata": {},
   "outputs": [],
   "source": [
    "df1=df.drop('Age',axis=1) # do not give inplace=True"
   ]
  },
  {
   "cell_type": "code",
   "execution_count": 55,
   "id": "55b06ead-f633-4464-8a16-8dd98bd62be3",
   "metadata": {},
   "outputs": [
    {
     "data": {
      "text/html": [
       "<div>\n",
       "<style scoped>\n",
       "    .dataframe tbody tr th:only-of-type {\n",
       "        vertical-align: middle;\n",
       "    }\n",
       "\n",
       "    .dataframe tbody tr th {\n",
       "        vertical-align: top;\n",
       "    }\n",
       "\n",
       "    .dataframe thead th {\n",
       "        text-align: right;\n",
       "    }\n",
       "</style>\n",
       "<table border=\"1\" class=\"dataframe\">\n",
       "  <thead>\n",
       "    <tr style=\"text-align: right;\">\n",
       "      <th></th>\n",
       "      <th>Names</th>\n",
       "    </tr>\n",
       "  </thead>\n",
       "  <tbody>\n",
       "    <tr>\n",
       "      <th>A</th>\n",
       "      <td>Ayush</td>\n",
       "    </tr>\n",
       "    <tr>\n",
       "      <th>B</th>\n",
       "      <td>Avinash</td>\n",
       "    </tr>\n",
       "    <tr>\n",
       "      <th>C</th>\n",
       "      <td>Akash</td>\n",
       "    </tr>\n",
       "    <tr>\n",
       "      <th>D</th>\n",
       "      <td>Anvi</td>\n",
       "    </tr>\n",
       "  </tbody>\n",
       "</table>\n",
       "</div>"
      ],
      "text/plain": [
       "     Names\n",
       "A    Ayush\n",
       "B  Avinash\n",
       "C    Akash\n",
       "D     Anvi"
      ]
     },
     "execution_count": 55,
     "metadata": {},
     "output_type": "execute_result"
    }
   ],
   "source": [
    "df1  # df has "
   ]
  },
  {
   "cell_type": "markdown",
   "id": "2dbed8fe-6fe0-4a58-a45c-26e9664e0dc2",
   "metadata": {},
   "source": [
    "$Step-9$"
   ]
  },
  {
   "cell_type": "code",
   "execution_count": 56,
   "id": "fcd007e5-35ec-4d67-8d84-9a83345be801",
   "metadata": {},
   "outputs": [
    {
     "data": {
      "text/html": [
       "<div>\n",
       "<style scoped>\n",
       "    .dataframe tbody tr th:only-of-type {\n",
       "        vertical-align: middle;\n",
       "    }\n",
       "\n",
       "    .dataframe tbody tr th {\n",
       "        vertical-align: top;\n",
       "    }\n",
       "\n",
       "    .dataframe thead th {\n",
       "        text-align: right;\n",
       "    }\n",
       "</style>\n",
       "<table border=\"1\" class=\"dataframe\">\n",
       "  <thead>\n",
       "    <tr style=\"text-align: right;\">\n",
       "      <th></th>\n",
       "      <th>Names</th>\n",
       "      <th>Age</th>\n",
       "      <th>City</th>\n",
       "    </tr>\n",
       "  </thead>\n",
       "  <tbody>\n",
       "    <tr>\n",
       "      <th>A</th>\n",
       "      <td>Ayush</td>\n",
       "      <td>20</td>\n",
       "      <td>Hyderabad</td>\n",
       "    </tr>\n",
       "    <tr>\n",
       "      <th>B</th>\n",
       "      <td>Avinash</td>\n",
       "      <td>25</td>\n",
       "      <td>Banglore</td>\n",
       "    </tr>\n",
       "    <tr>\n",
       "      <th>C</th>\n",
       "      <td>Akash</td>\n",
       "      <td>30</td>\n",
       "      <td>chennai</td>\n",
       "    </tr>\n",
       "    <tr>\n",
       "      <th>D</th>\n",
       "      <td>Anvi</td>\n",
       "      <td>35</td>\n",
       "      <td>Mumbai</td>\n",
       "    </tr>\n",
       "  </tbody>\n",
       "</table>\n",
       "</div>"
      ],
      "text/plain": [
       "     Names  Age       City\n",
       "A    Ayush   20  Hyderabad\n",
       "B  Avinash   25   Banglore\n",
       "C    Akash   30    chennai\n",
       "D     Anvi   35     Mumbai"
      ]
     },
     "execution_count": 56,
     "metadata": {},
     "output_type": "execute_result"
    }
   ],
   "source": [
    "# again read the data\n",
    "import pandas as pd\n",
    "names=['Ayush','Avinash','Akash','Anvi']\n",
    "age=[20,25,30,35]\n",
    "city=['Hyderabad','Banglore','chennai','Mumbai']\n",
    "\n",
    "data=zip(names,age,city)\n",
    "cols=['Names','Age','City']\n",
    "idx=['A','B','C','D']\n",
    "\n",
    "df=pd.DataFrame(data,\n",
    "             index=idx,\n",
    "             columns=cols)\n",
    "df"
   ]
  },
  {
   "cell_type": "code",
   "execution_count": 57,
   "id": "d024432d-3d3c-481b-8bd0-3d3c7adfee0d",
   "metadata": {},
   "outputs": [],
   "source": [
    "df.drop(['Age','City'],axis=1,inplace=True)"
   ]
  },
  {
   "cell_type": "code",
   "execution_count": 59,
   "id": "cddef705-8c89-4a85-8116-e9777b881188",
   "metadata": {},
   "outputs": [
    {
     "data": {
      "text/html": [
       "<div>\n",
       "<style scoped>\n",
       "    .dataframe tbody tr th:only-of-type {\n",
       "        vertical-align: middle;\n",
       "    }\n",
       "\n",
       "    .dataframe tbody tr th {\n",
       "        vertical-align: top;\n",
       "    }\n",
       "\n",
       "    .dataframe thead th {\n",
       "        text-align: right;\n",
       "    }\n",
       "</style>\n",
       "<table border=\"1\" class=\"dataframe\">\n",
       "  <thead>\n",
       "    <tr style=\"text-align: right;\">\n",
       "      <th></th>\n",
       "      <th>Names</th>\n",
       "    </tr>\n",
       "  </thead>\n",
       "  <tbody>\n",
       "    <tr>\n",
       "      <th>A</th>\n",
       "      <td>Ayush</td>\n",
       "    </tr>\n",
       "    <tr>\n",
       "      <th>B</th>\n",
       "      <td>Avinash</td>\n",
       "    </tr>\n",
       "    <tr>\n",
       "      <th>C</th>\n",
       "      <td>Akash</td>\n",
       "    </tr>\n",
       "    <tr>\n",
       "      <th>D</th>\n",
       "      <td>Anvi</td>\n",
       "    </tr>\n",
       "  </tbody>\n",
       "</table>\n",
       "</div>"
      ],
      "text/plain": [
       "     Names\n",
       "A    Ayush\n",
       "B  Avinash\n",
       "C    Akash\n",
       "D     Anvi"
      ]
     },
     "execution_count": 59,
     "metadata": {},
     "output_type": "execute_result"
    }
   ],
   "source": [
    "df # when someone says to drop the multiple columns means, we need to first recollect \"list\""
   ]
  },
  {
   "cell_type": "markdown",
   "id": "7d98ce38-19ad-4fbc-b742-cee34f18e949",
   "metadata": {},
   "source": [
    "$Step-10:$\n",
    "\n",
    "**Drop the rows**"
   ]
  },
  {
   "cell_type": "code",
   "execution_count": 60,
   "id": "c265865f-a37f-4d39-98bb-56f40a964aeb",
   "metadata": {},
   "outputs": [
    {
     "data": {
      "text/html": [
       "<div>\n",
       "<style scoped>\n",
       "    .dataframe tbody tr th:only-of-type {\n",
       "        vertical-align: middle;\n",
       "    }\n",
       "\n",
       "    .dataframe tbody tr th {\n",
       "        vertical-align: top;\n",
       "    }\n",
       "\n",
       "    .dataframe thead th {\n",
       "        text-align: right;\n",
       "    }\n",
       "</style>\n",
       "<table border=\"1\" class=\"dataframe\">\n",
       "  <thead>\n",
       "    <tr style=\"text-align: right;\">\n",
       "      <th></th>\n",
       "      <th>Names</th>\n",
       "      <th>Age</th>\n",
       "      <th>City</th>\n",
       "    </tr>\n",
       "  </thead>\n",
       "  <tbody>\n",
       "    <tr>\n",
       "      <th>A</th>\n",
       "      <td>Ayush</td>\n",
       "      <td>20</td>\n",
       "      <td>Hyderabad</td>\n",
       "    </tr>\n",
       "    <tr>\n",
       "      <th>B</th>\n",
       "      <td>Avinash</td>\n",
       "      <td>25</td>\n",
       "      <td>Banglore</td>\n",
       "    </tr>\n",
       "    <tr>\n",
       "      <th>C</th>\n",
       "      <td>Akash</td>\n",
       "      <td>30</td>\n",
       "      <td>chennai</td>\n",
       "    </tr>\n",
       "    <tr>\n",
       "      <th>D</th>\n",
       "      <td>Anvi</td>\n",
       "      <td>35</td>\n",
       "      <td>Mumbai</td>\n",
       "    </tr>\n",
       "  </tbody>\n",
       "</table>\n",
       "</div>"
      ],
      "text/plain": [
       "     Names  Age       City\n",
       "A    Ayush   20  Hyderabad\n",
       "B  Avinash   25   Banglore\n",
       "C    Akash   30    chennai\n",
       "D     Anvi   35     Mumbai"
      ]
     },
     "execution_count": 60,
     "metadata": {},
     "output_type": "execute_result"
    }
   ],
   "source": [
    "# again read the data\n",
    "import pandas as pd\n",
    "names=['Ayush','Avinash','Akash','Anvi']\n",
    "age=[20,25,30,35]\n",
    "city=['Hyderabad','Banglore','chennai','Mumbai']\n",
    "\n",
    "data=zip(names,age,city)\n",
    "cols=['Names','Age','City']\n",
    "idx=['A','B','C','D']\n",
    "\n",
    "df=pd.DataFrame(data,\n",
    "             index=idx,\n",
    "             columns=cols)\n",
    "df"
   ]
  },
  {
   "cell_type": "code",
   "execution_count": 62,
   "id": "69a72045-4bf2-4b77-8e67-ecb250dcf11a",
   "metadata": {},
   "outputs": [],
   "source": [
    "df.drop('B',axis=0,inplace=True)"
   ]
  },
  {
   "cell_type": "code",
   "execution_count": 63,
   "id": "492e7932-a821-4b16-9731-a4a548885f66",
   "metadata": {},
   "outputs": [
    {
     "data": {
      "text/html": [
       "<div>\n",
       "<style scoped>\n",
       "    .dataframe tbody tr th:only-of-type {\n",
       "        vertical-align: middle;\n",
       "    }\n",
       "\n",
       "    .dataframe tbody tr th {\n",
       "        vertical-align: top;\n",
       "    }\n",
       "\n",
       "    .dataframe thead th {\n",
       "        text-align: right;\n",
       "    }\n",
       "</style>\n",
       "<table border=\"1\" class=\"dataframe\">\n",
       "  <thead>\n",
       "    <tr style=\"text-align: right;\">\n",
       "      <th></th>\n",
       "      <th>Names</th>\n",
       "      <th>Age</th>\n",
       "      <th>City</th>\n",
       "    </tr>\n",
       "  </thead>\n",
       "  <tbody>\n",
       "    <tr>\n",
       "      <th>A</th>\n",
       "      <td>Ayush</td>\n",
       "      <td>20</td>\n",
       "      <td>Hyderabad</td>\n",
       "    </tr>\n",
       "    <tr>\n",
       "      <th>C</th>\n",
       "      <td>Akash</td>\n",
       "      <td>30</td>\n",
       "      <td>chennai</td>\n",
       "    </tr>\n",
       "    <tr>\n",
       "      <th>D</th>\n",
       "      <td>Anvi</td>\n",
       "      <td>35</td>\n",
       "      <td>Mumbai</td>\n",
       "    </tr>\n",
       "  </tbody>\n",
       "</table>\n",
       "</div>"
      ],
      "text/plain": [
       "   Names  Age       City\n",
       "A  Ayush   20  Hyderabad\n",
       "C  Akash   30    chennai\n",
       "D   Anvi   35     Mumbai"
      ]
     },
     "execution_count": 63,
     "metadata": {},
     "output_type": "execute_result"
    }
   ],
   "source": [
    "df"
   ]
  },
  {
   "cell_type": "markdown",
   "id": "da9cb457-acbd-4bc4-8fe1-86b83e1b46fe",
   "metadata": {},
   "source": [
    "$Step-11$\n",
    "\n",
    "**How to save in dataframe**\n",
    "\n",
    "- Generally, data frames are two types\n",
    "\n",
    "- csv(comma separated vale)\n",
    "\n",
    "- excel"
   ]
  },
  {
   "cell_type": "code",
   "execution_count": 64,
   "id": "0d40c5c3-b9df-48ee-85b5-1e30d6d70837",
   "metadata": {},
   "outputs": [],
   "source": [
    "# file_name= data\n",
    "# extension= csv\n",
    "df.to_csv('data.csv')"
   ]
  },
  {
   "cell_type": "code",
   "execution_count": 65,
   "id": "d3dd7095-c4f5-4493-ae91-85c0c2181f1e",
   "metadata": {},
   "outputs": [],
   "source": [
    "df.to_csv('data1.csv',index=False)"
   ]
  },
  {
   "cell_type": "code",
   "execution_count": 66,
   "id": "c586c584-47dc-4ff3-a858-b652c5bb2214",
   "metadata": {},
   "outputs": [],
   "source": [
    "# Extension\n",
    "# .xlsx"
   ]
  },
  {
   "cell_type": "code",
   "execution_count": 67,
   "id": "089cb977-3c51-4474-884b-b1b3c2c86c1d",
   "metadata": {},
   "outputs": [
    {
     "data": {
      "text/html": [
       "<div>\n",
       "<style scoped>\n",
       "    .dataframe tbody tr th:only-of-type {\n",
       "        vertical-align: middle;\n",
       "    }\n",
       "\n",
       "    .dataframe tbody tr th {\n",
       "        vertical-align: top;\n",
       "    }\n",
       "\n",
       "    .dataframe thead th {\n",
       "        text-align: right;\n",
       "    }\n",
       "</style>\n",
       "<table border=\"1\" class=\"dataframe\">\n",
       "  <thead>\n",
       "    <tr style=\"text-align: right;\">\n",
       "      <th></th>\n",
       "      <th>Names</th>\n",
       "      <th>Age</th>\n",
       "      <th>City</th>\n",
       "    </tr>\n",
       "  </thead>\n",
       "  <tbody>\n",
       "    <tr>\n",
       "      <th>A</th>\n",
       "      <td>Ayush</td>\n",
       "      <td>20</td>\n",
       "      <td>Hyderabad</td>\n",
       "    </tr>\n",
       "    <tr>\n",
       "      <th>B</th>\n",
       "      <td>Avinash</td>\n",
       "      <td>25</td>\n",
       "      <td>Banglore</td>\n",
       "    </tr>\n",
       "    <tr>\n",
       "      <th>C</th>\n",
       "      <td>Akash</td>\n",
       "      <td>30</td>\n",
       "      <td>chennai</td>\n",
       "    </tr>\n",
       "    <tr>\n",
       "      <th>D</th>\n",
       "      <td>Anvi</td>\n",
       "      <td>35</td>\n",
       "      <td>Mumbai</td>\n",
       "    </tr>\n",
       "  </tbody>\n",
       "</table>\n",
       "</div>"
      ],
      "text/plain": [
       "     Names  Age       City\n",
       "A    Ayush   20  Hyderabad\n",
       "B  Avinash   25   Banglore\n",
       "C    Akash   30    chennai\n",
       "D     Anvi   35     Mumbai"
      ]
     },
     "execution_count": 67,
     "metadata": {},
     "output_type": "execute_result"
    }
   ],
   "source": [
    "# again read the data\n",
    "import pandas as pd\n",
    "names=['Ayush','Avinash','Akash','Anvi']\n",
    "age=[20,25,30,35]\n",
    "city=['Hyderabad','Banglore','chennai','Mumbai']\n",
    "\n",
    "data=zip(names,age,city)\n",
    "cols=['Names','Age','City']\n",
    "idx=['A','B','C','D']\n",
    "\n",
    "df=pd.DataFrame(data,\n",
    "             index=idx,\n",
    "             columns=cols)\n",
    "df"
   ]
  },
  {
   "cell_type": "code",
   "execution_count": 71,
   "id": "38798e4c-4cce-4ee0-9dab-fc6b3cb6559a",
   "metadata": {},
   "outputs": [],
   "source": [
    "df.to_excel('data2.xlsx',index=False)"
   ]
  },
  {
   "cell_type": "code",
   "execution_count": null,
   "id": "7b593be9-8a1b-4ba5-b121-06f33f53a20d",
   "metadata": {},
   "outputs": [],
   "source": []
  }
 ],
 "metadata": {
  "kernelspec": {
   "display_name": "Python 3 (ipykernel)",
   "language": "python",
   "name": "python3"
  },
  "language_info": {
   "codemirror_mode": {
    "name": "ipython",
    "version": 3
   },
   "file_extension": ".py",
   "mimetype": "text/x-python",
   "name": "python",
   "nbconvert_exporter": "python",
   "pygments_lexer": "ipython3",
   "version": "3.11.7"
  }
 },
 "nbformat": 4,
 "nbformat_minor": 5
}
